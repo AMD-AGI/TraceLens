{
 "cells": [
  {
   "cell_type": "markdown",
   "id": "407d5bd5",
   "metadata": {},
   "source": [
    "## Using Trace Diff to find the differences between two Pytorch Kineto Traces"
   ]
  },
  {
   "cell_type": "markdown",
   "id": "f040ae81",
   "metadata": {},
   "source": [
    "First load two traces as trees"
   ]
  },
  {
   "cell_type": "code",
   "execution_count": 1,
   "id": "e6eefdbd",
   "metadata": {},
   "outputs": [
    {
     "name": "stdout",
     "output_type": "stream",
     "text": [
      "Building tree with add_python_func=False\n",
      "Building CPU op tree with add_python_func=False\n",
      "Building tree with add_python_func=False\n",
      "Building CPU op tree with add_python_func=False\n",
      "Building tree with add_python_func=False\n",
      "Building CPU op tree with add_python_func=False\n"
     ]
    }
   ],
   "source": [
    "import json\n",
    "\n",
    "from TraceLens import TraceToTree\n",
    "\n",
    "trace_file1 = \"/home/spanmore/work/traces/a100_longformer_kineto.json\"\n",
    "trace_file2 = \"/home/spanmore/work/traces/mi250_longformer_kineto.json\"\n",
    "\n",
    "with open(trace_file1, \"r\") as f:\n",
    "    trace_data1 = json.load(f)\n",
    "\n",
    "with open(trace_file2, \"r\") as f:\n",
    "    trace_data2 = json.load(f)\n",
    "\n",
    "events1 = trace_data1[\"traceEvents\"]\n",
    "tree1 = TraceToTree(events1)\n",
    "tree1.build_tree()\n",
    "\n",
    "events2 = trace_data2[\"traceEvents\"]\n",
    "tree2 = TraceToTree(events2)\n",
    "tree2.build_tree()"
   ]
  },
  {
   "cell_type": "code",
   "execution_count": 2,
   "id": "25051f4b",
   "metadata": {},
   "outputs": [],
   "source": [
    "from TraceLens import TraceDiff\n",
    "\n",
    "td = TraceDiff(tree1, tree2)\n",
    "(db1, db2, pod1, pod2) = td.get_diff_boundaries()"
   ]
  },
  {
   "cell_type": "code",
   "execution_count": 3,
   "id": "b074a0aa",
   "metadata": {},
   "outputs": [
    {
     "name": "stdout",
     "output_type": "stream",
     "text": [
      "Merged tree written to merged_tree_output.txt\n",
      "Diff stats written to diff_stats.csv\n"
     ]
    }
   ],
   "source": [
    "# Merge the trees, print merged tree, and print diff stats\n",
    "td.merge_trees()\n",
    "td.print_merged_tree(\"merged_tree_output.txt\")\n",
    "td.print_diff_stats(\"diff_stats.csv\")\n",
    "print(\"Merged tree written to merged_tree_output.txt\")\n",
    "print(\"Diff stats written to diff_stats.csv\")"
   ]
  }
 ],
 "metadata": {
  "kernelspec": {
   "display_name": "tracelens_dev",
   "language": "python",
   "name": "python3"
  },
  "language_info": {
   "codemirror_mode": {
    "name": "ipython",
    "version": 3
   },
   "file_extension": ".py",
   "mimetype": "text/x-python",
   "name": "python",
   "nbconvert_exporter": "python",
   "pygments_lexer": "ipython3",
   "version": "3.12.10"
  }
 },
 "nbformat": 4,
 "nbformat_minor": 5
}
