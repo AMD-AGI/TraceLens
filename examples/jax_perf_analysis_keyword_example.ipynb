{
 "cells": [
  {
   "cell_type": "code",
   "execution_count": null,
   "id": "b356df38",
   "metadata": {},
   "outputs": [],
   "source": [
    "from TraceLens.TreePerf import JaxTreePerfAnalyzer"
   ]
  },
  {
   "cell_type": "code",
   "execution_count": null,
   "id": "482b6813",
   "metadata": {},
   "outputs": [],
   "source": [
    "profile_path = 'path_to_profile.pb'"
   ]
  },
  {
   "cell_type": "code",
   "execution_count": null,
   "id": "d87549b3",
   "metadata": {},
   "outputs": [],
   "source": [
    "\n",
    "# Kernel metadata keyword filters, performance analysis is computed only for the events containing the kerword in the metadata e.g. in framework name scope\n",
    "# e.g. ['remat', 'checkpoint'] or ['MoeBlock']\n",
    "kernel_metadata_keyword_filters = ['remat', 'checkpoint']\n",
    "\n",
    "# statistics with including only events with keyword in the event metadata\n",
    "perf_analyzer_with_keywords = JaxTreePerfAnalyzer.from_file(profile_filepath=profile_path, kernel_metadata_keyword_filters=kernel_metadata_keyword_filters)\n",
    "df_kernel_launchers_with_keywords = perf_analyzer_with_keywords.get_df_kernel_launchers(include_kernel_details=True)\n",
    "\n",
    "agg_metrics = ['mean', 'median', 'std', 'min', 'max']\n",
    "df_kernel_launchers_summary_with_keywords = perf_analyzer_with_keywords.get_df_kernel_launchers_summary(df_kernel_launchers_with_keywords)\n",
    "df_kernel_launchers_summary_by_category_with_keywords = perf_analyzer_with_keywords.get_df_kernel_launchers_summary_by_category(df_kernel_launchers_with_keywords)\n",
    "df_kernel_launchers_unique_args_with_keywords = perf_analyzer_with_keywords.get_df_kernel_launchers_unique_args(df_kernel_launchers_with_keywords, \n",
    "                                                                                agg_metrics=agg_metrics, \n",
    "                                                                                include_pct=True)\n",
    "\n",
    "# Generate & store Dataframes on selected e.g. XLA kernels \n",
    "df_xla_events_with_keywords = perf_analyzer_with_keywords.get_df_kernel_launchers(include_kernel_details=True, gpu_kernel_op_cats=['Uncategorized Events/XLA',])\n"
   ]
  },
  {
   "cell_type": "code",
   "execution_count": null,
   "id": "26604155",
   "metadata": {},
   "outputs": [],
   "source": [
    "df_kernel_launchers_with_keywords"
   ]
  },
  {
   "cell_type": "code",
   "execution_count": null,
   "id": "cf97436b",
   "metadata": {},
   "outputs": [],
   "source": [
    "\n",
    "# full statistics without keyword filtering\n",
    "perf_analyzer = JaxTreePerfAnalyzer.from_file(profile_filepath=profile_path)\n",
    "df_kernel_launchers = perf_analyzer.get_df_kernel_launchers(include_kernel_details=True)\n",
    "\n",
    "df_kernel_launchers_summary = perf_analyzer.get_df_kernel_launchers_summary(df_kernel_launchers)\n",
    "df_kernel_launchers_summary_by_category = perf_analyzer.get_df_kernel_launchers_summary_by_category(df_kernel_launchers)\n",
    "df_kernel_launchers_unique_args = perf_analyzer.get_df_kernel_launchers_unique_args(df_kernel_launchers, \n",
    "                                                                                agg_metrics=agg_metrics, \n",
    "                                                                                include_pct=True)\n",
    "\n",
    "# Generate & store Dataframes on selected e.g. XLA kernels \n",
    "df_xla_events = perf_analyzer.get_df_kernel_launchers(include_kernel_details=True, gpu_kernel_op_cats=['Uncategorized Events/XLA',])\n"
   ]
  },
  {
   "cell_type": "code",
   "execution_count": null,
   "id": "40627c9e",
   "metadata": {},
   "outputs": [],
   "source": [
    "df_kernel_launchers"
   ]
  },
  {
   "cell_type": "code",
   "execution_count": null,
   "id": "bcb9b79c",
   "metadata": {},
   "outputs": [],
   "source": [
    "# compare total kernel times with keyword filtering against the full profile\n",
    "df_kernel_launchers_with_keywords['total_direct_kernel_time'].sum()/df_kernel_launchers['total_direct_kernel_time'].sum()*100"
   ]
  },
  {
   "cell_type": "code",
   "execution_count": null,
   "id": "2c5b8c7f",
   "metadata": {},
   "outputs": [],
   "source": [
    "df_kernel_launchers_summary_by_category"
   ]
  },
  {
   "cell_type": "code",
   "execution_count": null,
   "id": "05b7e72f",
   "metadata": {},
   "outputs": [],
   "source": [
    "# by_category view might show e.g. how much remat and checkpoint is used for a specific category compared to the full profile\n",
    "df_kernel_launchers_summary_by_category_with_keywords"
   ]
  }
 ],
 "metadata": {
  "kernelspec": {
   "display_name": ".venv",
   "language": "python",
   "name": "python3"
  },
  "language_info": {
   "codemirror_mode": {
    "name": "ipython",
    "version": 3
   },
   "file_extension": ".py",
   "mimetype": "text/x-python",
   "name": "python",
   "nbconvert_exporter": "python",
   "pygments_lexer": "ipython3",
   "version": "3.12.3"
  }
 },
 "nbformat": 4,
 "nbformat_minor": 5
}
