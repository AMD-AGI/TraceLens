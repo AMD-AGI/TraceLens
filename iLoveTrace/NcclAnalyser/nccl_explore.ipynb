{
 "cells": [
  {
   "cell_type": "code",
   "execution_count": 2,
   "id": "5536f40c-c2e4-4065-aef7-5760f24b8b06",
   "metadata": {},
   "outputs": [],
   "source": [
    "from tqdm import tqdm\n",
    "from pprint import pprint\n",
    "import json\n",
    "import pandas as pd"
   ]
  },
  {
   "cell_type": "code",
   "execution_count": 3,
   "id": "4a10caa7-8838-4508-a3ca-363f4ba8e846",
   "metadata": {},
   "outputs": [],
   "source": [
    "path = '/home/ajassani/feb12_2025/iteration_6/rank0_trace.json'\n",
    "with open(path, 'r') as f:\n",
    "    data = json.load(f)\n",
    "\n",
    "events = data['traceEvents']\n",
    "\n"
   ]
  },
  {
   "cell_type": "code",
   "execution_count": 6,
   "id": "ad4ed0f8-acc3-44a2-a3c2-008223f8a217",
   "metadata": {},
   "outputs": [],
   "source": [
    "nccl_events = []\n",
    "for event in events:\n",
    "    if event.get('cat') != 'kernel':\n",
    "        continue\n",
    "    if 'nccl' in event['name']:\n",
    "        nccl_events.append(event)\n",
    "        "
   ]
  },
  {
   "cell_type": "code",
   "execution_count": 10,
   "id": "24d20afe-c72b-45b8-988e-12efc5764e19",
   "metadata": {},
   "outputs": [
    {
     "data": {
      "text/plain": [
       "{'_allgather_base', '_reduce_scatter_base', 'allreduce'}"
      ]
     },
     "execution_count": 10,
     "metadata": {},
     "output_type": "execute_result"
    }
   ],
   "source": [
    "unique_collective_name = set()\n",
    "for nccl_event in nccl_events:\n",
    "    unique_collective_name.add(nccl_event['args']['Collective name'])\n",
    "unique_collective_name"
   ]
  }
 ],
 "metadata": {
  "kernelspec": {
   "display_name": "Python 3 (ipykernel)",
   "language": "python",
   "name": "python3"
  },
  "language_info": {
   "codemirror_mode": {
    "name": "ipython",
    "version": 3
   },
   "file_extension": ".py",
   "mimetype": "text/x-python",
   "name": "python",
   "nbconvert_exporter": "python",
   "pygments_lexer": "ipython3",
   "version": "3.10.15"
  }
 },
 "nbformat": 4,
 "nbformat_minor": 5
}
