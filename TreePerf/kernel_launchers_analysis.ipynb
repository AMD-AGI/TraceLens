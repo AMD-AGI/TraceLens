{
 "cells": [
  {
   "cell_type": "code",
   "execution_count": null,
   "id": "271f6aa3-c9bc-40e4-9e0f-e4ec435697af",
   "metadata": {},
   "outputs": [],
   "source": [
    "from tqdm import tqdm\n",
    "from pprint import pprint\n",
    "import json\n",
    "import pandas as pd\n",
    "import sys\n",
    "sys.path.append('/home/ajassani/iLoveTrace')\n",
    "from Trace2Tree.trace_to_tree import TraceToTree\n",
    "from tree_perf import TreePerfAnalyzer"
   ]
  },
  {
   "cell_type": "code",
   "execution_count": null,
   "id": "a2074023-24c3-485f-a6a7-2c84c09888df",
   "metadata": {},
   "outputs": [],
   "source": [
    "path = '/home/ajassani/trace_data/jan6/MI325/gpt-3-xl_single-gpu_bfloat16_bs5_steps25_det0_prof1_level1/pytorch_profile_rank0.json'\n",
    "with open(path, 'r') as f:\n",
    "    data = json.load(f)\n",
    "\n",
    "events = data['traceEvents']\n",
    "tree = TraceToTree(events)\n",
    "tree.build_tree(add_python_func=False)\n",
    "perf_analyzer = TreePerfAnalyzer(tree)"
   ]
  },
  {
   "cell_type": "code",
   "execution_count": null,
   "id": "121add98-9b05-4189-a760-532c34123e78",
   "metadata": {},
   "outputs": [],
   "source": [
    "df_kernel_launchers = perf_analyzer.get_df_kernel_launchers()\n",
    "df_kernel_launchers.round(2)"
   ]
  },
  {
   "cell_type": "code",
   "execution_count": null,
   "id": "b43833e7-fab4-4a27-b59d-1dd9a54cc0f4",
   "metadata": {},
   "outputs": [],
   "source": [
    "# this gives a good perf breakdown at op level\n",
    "df_kernel_launchers_summary = perf_analyzer.get_df_kernel_launchers_summary(df_kernel_launchers)\n",
    "df_kernel_launchers_summary.round(2)"
   ]
  },
  {
   "cell_type": "code",
   "execution_count": null,
   "id": "55b29b09-bbc0-458f-8ded-f64edb7d4b7d",
   "metadata": {},
   "outputs": [],
   "source": [
    "# We can further get breakdown by shapes for a particular op\n",
    "df_kernel_launchers_summary_name_shapes = perf_analyzer.get_df_kernel_launchers_summary_by_shape(df_kernel_launchers, \"aten::miopen_convolution\")\n",
    "df_kernel_launchers_summary_name_shapes.round(2)"
   ]
  },
  {
   "cell_type": "code",
   "execution_count": null,
   "id": "7723066d-3b97-49ee-9401-596643826639",
   "metadata": {},
   "outputs": [],
   "source": []
  }
 ],
 "metadata": {
  "kernelspec": {
   "display_name": "Python 3 (ipykernel)",
   "language": "python",
   "name": "python3"
  },
  "language_info": {
   "codemirror_mode": {
    "name": "ipython",
    "version": 3
   },
   "file_extension": ".py",
   "mimetype": "text/x-python",
   "name": "python",
   "nbconvert_exporter": "python",
   "pygments_lexer": "ipython3",
   "version": "3.10.15"
  }
 },
 "nbformat": 4,
 "nbformat_minor": 5
}
