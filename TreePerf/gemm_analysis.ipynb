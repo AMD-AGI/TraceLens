{
 "cells": [
  {
   "cell_type": "code",
   "execution_count": 4,
   "id": "271f6aa3-c9bc-40e4-9e0f-e4ec435697af",
   "metadata": {},
   "outputs": [],
   "source": [
    "from tqdm import tqdm\n",
    "from pprint import pprint\n",
    "import json\n",
    "import pandas as pd\n",
    "import sys\n",
    "sys.path.append('..')\n",
    "from Trace2Tree.trace_to_tree import TraceToTree\n",
    "from tree_perf import TreePerfAnalyzer"
   ]
  },
  {
   "cell_type": "code",
   "execution_count": null,
   "id": "a2074023-24c3-485f-a6a7-2c84c09888df",
   "metadata": {},
   "outputs": [],
   "source": [
    "path = '/path/to/pytorch_profile.json'\n",
    "with open(path, 'r') as f:\n",
    "    data = json.load(f)\n",
    "\n",
    "events = data['traceEvents']\n",
    "tree = TraceToTree(events)\n",
    "tree.build_tree(add_python_func=False)\n",
    "perf_analyzer = TreePerfAnalyzer(tree)"
   ]
  },
  {
   "cell_type": "code",
   "execution_count": null,
   "id": "66e8d4ee-91ed-4038-8083-71b79388ce59",
   "metadata": {},
   "outputs": [],
   "source": [
    "gemm_events = [event for event in tree.events if event['name'] in ['aten::addmm', 'aten::mm']]\n",
    "gemm_events_uids = [event['UID'] for event in gemm_events]\n",
    "df_gemm_ops = perf_analyzer.build_df_perf_metrics(gemm_events_uids, bwd=False, non_data_mov=True)\n",
    "perf_analyzer.summarize_df_perf_metrics(df_gemm_ops, ['mean'])"
   ]
  }
 ],
 "metadata": {
  "kernelspec": {
   "display_name": "Python 3 (ipykernel)",
   "language": "python",
   "name": "python3"
  },
  "language_info": {
   "codemirror_mode": {
    "name": "ipython",
    "version": 3
   },
   "file_extension": ".py",
   "mimetype": "text/x-python",
   "name": "python",
   "nbconvert_exporter": "python",
   "pygments_lexer": "ipython3",
   "version": "3.10.15"
  }
 },
 "nbformat": 4,
 "nbformat_minor": 5
}
