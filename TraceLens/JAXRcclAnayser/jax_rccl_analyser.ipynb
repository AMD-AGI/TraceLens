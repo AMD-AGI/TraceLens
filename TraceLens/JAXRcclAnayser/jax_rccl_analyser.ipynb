{
 "cells": [
  {
   "cell_type": "code",
   "execution_count": null,
   "id": "010e61b1",
   "metadata": {},
   "outputs": [],
   "source": [
    "# Scratch notebook to test rccl-analysis code"
   ]
  },
  {
   "cell_type": "code",
   "execution_count": null,
   "id": "030beb5d",
   "metadata": {},
   "outputs": [],
   "source": [
    "from jax_rccl_analyser import RcclAnalyser"
   ]
  },
  {
   "cell_type": "code",
   "execution_count": null,
   "id": "3d83de3f",
   "metadata": {},
   "outputs": [],
   "source": [
    "rank_to_pb_file_mapping = {}\n",
    "world_size= 32\n",
    "rank_to_pb_file_mapping[\"0\"] = \"/workspace/code/traces/logs/20250509_1604_mixtral/tw026/20250509_1604_mixtral/tensorboard/plugins/profile/2025_05_09_16_09_12/tw026.xplane.pb\"\n",
    "rank_to_pb_file_mapping[\"1\"] = \"/workspace/code/traces/logs/20250509_1604_mixtral/tw034/20250509_1604_mixtral/tensorboard/plugins/profile/2025_05_09_16_09_12/tw034.xplane.pb\"\n",
    "rank_to_pb_file_mapping[\"2\"] = \"/workspace/code/traces/logs/20250509_1604_mixtral/tw035/20250509_1604_mixtral/tensorboard/plugins/profile/2025_05_09_16_09_12/tw035.xplane.pb\"\n",
    "rank_to_pb_file_mapping[\"3\"] = \"/workspace/code/traces/logs/20250509_1604_mixtral/tw052/20250509_1604_mixtral/tensorboard/plugins/profile/2025_05_09_16_09_12/tw052.xplane.pb\""
   ]
  },
  {
   "cell_type": "code",
   "execution_count": null,
   "id": "769990e2",
   "metadata": {},
   "outputs": [],
   "source": [
    "rccl_analyser = RcclAnalyser(rank_to_pb_file_mapping,world_size)"
   ]
  },
  {
   "cell_type": "code",
   "execution_count": null,
   "id": "27d8c03f",
   "metadata": {},
   "outputs": [],
   "source": [
    "df = rccl_analyser.build_df_long()"
   ]
  },
  {
   "cell_type": "code",
   "execution_count": null,
   "id": "5a7b1d86",
   "metadata": {},
   "outputs": [],
   "source": [
    "df.head(100)"
   ]
  },
  {
   "cell_type": "code",
   "execution_count": null,
   "id": "ba5597aa",
   "metadata": {},
   "outputs": [],
   "source": [
    "df[df[\"collective_name\"] == \"all-gather-start.28\"]"
   ]
  },
  {
   "cell_type": "code",
   "execution_count": null,
   "id": "21591507",
   "metadata": {},
   "outputs": [],
   "source": [
    "rank_events = df[df[\"collective_id\"] == \"all-gather-start.28_0\"]"
   ]
  },
  {
   "cell_type": "code",
   "execution_count": null,
   "id": "8212e87a",
   "metadata": {},
   "outputs": [],
   "source": [
    "rank_events"
   ]
  },
  {
   "cell_type": "code",
   "execution_count": null,
   "id": "e1e90f71",
   "metadata": {},
   "outputs": [],
   "source": [
    "for r in rank_events.index:\n",
    "   print(rank_events.loc[r, 'ts'])"
   ]
  },
  {
   "cell_type": "code",
   "execution_count": null,
   "id": "661782fc",
   "metadata": {},
   "outputs": [],
   "source": [
    "row = {}\n",
    "row[\"collective_id\"] = \"all-gather-start.28_0\""
   ]
  },
  {
   "cell_type": "code",
   "execution_count": null,
   "id": "961a7287",
   "metadata": {},
   "outputs": [],
   "source": [
    "for r in rank_events.index:\n",
    "   row[f'rank_{r}_ts'] = rank_events.loc[r, 'ts']\n",
    "   row[f'rank_{r}_dur'] = rank_events.loc[r, 'dur']"
   ]
  },
  {
   "cell_type": "code",
   "execution_count": null,
   "id": "230df379",
   "metadata": {},
   "outputs": [],
   "source": [
    "row"
   ]
  },
  {
   "cell_type": "code",
   "execution_count": null,
   "id": "4a91e17e",
   "metadata": {},
   "outputs": [],
   "source": []
  },
  {
   "cell_type": "code",
   "execution_count": null,
   "id": "db832240",
   "metadata": {},
   "outputs": [],
   "source": []
  }
 ],
 "metadata": {
  "kernelspec": {
   "display_name": "3.10.12",
   "language": "python",
   "name": "python3"
  },
  "language_info": {
   "codemirror_mode": {
    "name": "ipython",
    "version": 3
   },
   "file_extension": ".py",
   "mimetype": "text/x-python",
   "name": "python",
   "nbconvert_exporter": "python",
   "pygments_lexer": "ipython3",
   "version": "3.10.12"
  }
 },
 "nbformat": 4,
 "nbformat_minor": 5
}
