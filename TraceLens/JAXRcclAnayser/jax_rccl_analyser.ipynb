{
 "cells": [
  {
   "cell_type": "code",
   "execution_count": null,
   "id": "010e61b1",
   "metadata": {
    "vscode": {
     "languageId": "plaintext"
    }
   },
   "outputs": [],
   "source": [
    "# Scratch notebook to test rccl-analysis code"
   ]
  }
 ],
 "metadata": {
  "language_info": {
   "name": "python"
  }
 },
 "nbformat": 4,
 "nbformat_minor": 5
}
