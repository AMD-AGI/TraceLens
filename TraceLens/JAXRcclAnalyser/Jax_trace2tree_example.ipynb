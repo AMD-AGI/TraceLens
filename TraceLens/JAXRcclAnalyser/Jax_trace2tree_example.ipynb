{
 "cells": [
  {
   "cell_type": "code",
   "execution_count": null,
   "id": "e1ddfd4a",
   "metadata": {},
   "outputs": [],
   "source": [
    "from TraceLens import TreePerfAnalyzer\n",
    "from TraceLens.util import DataLoader"
   ]
  },
  {
   "cell_type": "code",
   "execution_count": null,
   "id": "f628fd14",
   "metadata": {},
   "outputs": [],
   "source": [
    "from TraceLens.Trace2Tree.trace_to_tree import JaxTraceToTree\n",
    "from TraceLens.util import TraceEventUtils"
   ]
  },
  {
   "cell_type": "code",
   "execution_count": null,
   "id": "d68cfdb3",
   "metadata": {},
   "outputs": [],
   "source": [
    "\n",
    "profile_filepath = \"/workspace/code/traces/logs/20250509_1604_mixtral/tw026/20250509_1604_mixtral/tensorboard/plugins/profile/2025_05_09_16_09_12/tw026.xplane.pb\"\n",
    "\n",
    "#data_pb = DataLoader.load_data(profile_filepath, save_preprocessed=True)\n",
    "data_pb = DataLoader.load_data(profile_filepath, save_preprocessed=False)\n"
   ]
  },
  {
   "cell_type": "code",
   "execution_count": null,
   "id": "4dd675fe",
   "metadata": {},
   "outputs": [],
   "source": [
    "data_pb.keys()"
   ]
  },
  {
   "cell_type": "code",
   "execution_count": null,
   "id": "e13cc8dd",
   "metadata": {},
   "outputs": [],
   "source": [
    "data_pb[\"showCounterMessage\"]"
   ]
  },
  {
   "cell_type": "code",
   "execution_count": null,
   "metadata": {},
   "outputs": [],
   "source": []
  },
  {
   "cell_type": "code",
   "execution_count": null,
   "id": "2ab4845e",
   "metadata": {},
   "outputs": [],
   "source": [
    "data_pb = data_pb['traceEvents']"
   ]
  },
  {
   "cell_type": "code",
   "execution_count": null,
   "id": "c6aa28d5",
   "metadata": {},
   "outputs": [],
   "source": [
    "jax = True\n",
    "linking_key = 'correlation_id'\n",
    "categorizer =  JaxTraceToTree.default_categorizer if not jax else TraceEventUtils.prepare_event_categorizer(data_pb)\n",
    "\n",
    "data = data_pb if not jax else TraceEventUtils.non_metadata_events(data_pb)\n",
    "\n",
    "tree = JaxTraceToTree(data, event_to_category=categorizer, linking_key=linking_key)\n",
    "metadata = TraceEventUtils.get_metadata(data_pb)\n",
    "tree.build_tree(metadata=metadata, pb_file_name=profile_filepath)"
   ]
  },
  {
   "cell_type": "code",
   "execution_count": null,
   "id": "a4953761",
   "metadata": {},
   "outputs": [],
   "source": [
    "for event in tree.events:\n",
    "    if \"args\" in event.keys():\n",
    "        if \"hlo_op\" in event[\"args\"].keys():\n",
    "            if event[\"args\"].get(\"hlo_op\") == \"all-gather-start.10\":\n",
    "                print(event)\n",
    "                "
   ]
  },
  {
   "cell_type": "code",
   "execution_count": null,
   "id": "93897530",
   "metadata": {},
   "outputs": [],
   "source": [
    "metadata = TraceEventUtils.get_metadata(data_pb)"
   ]
  },
  {
   "cell_type": "code",
   "execution_count": null,
   "id": "cb8855d1",
   "metadata": {},
   "outputs": [],
   "source": [
    "metadata.keys()"
   ]
  },
  {
   "cell_type": "code",
   "execution_count": null,
   "id": "fab43617",
   "metadata": {},
   "outputs": [],
   "source": [
    "metadata[1]"
   ]
  },
  {
   "cell_type": "code",
   "execution_count": null,
   "id": "e9d0d881",
   "metadata": {},
   "outputs": [],
   "source": [
    "tree._set_metadata(metadata=metadata)\n",
    "tree._set_hlo_ops(pb_file_name=profile_filepath)"
   ]
  },
  {
   "cell_type": "code",
   "execution_count": null,
   "id": "34a71b39",
   "metadata": {},
   "outputs": [],
   "source": [
    "tree._create_linking_key_to_uid_map()"
   ]
  },
  {
   "cell_type": "code",
   "execution_count": null,
   "id": "14e965a0",
   "metadata": {},
   "outputs": [],
   "source": [
    "len(tree.linking_key_to_uid_map.keys())"
   ]
  },
  {
   "cell_type": "code",
   "execution_count": null,
   "id": "2d40e9b4",
   "metadata": {},
   "outputs": [],
   "source": []
  },
  {
   "cell_type": "code",
   "execution_count": null,
   "id": "14db5fd2",
   "metadata": {},
   "outputs": [],
   "source": [
    "tree.build_tree(metadata=metadata, pb_file_name=profile_filepath)"
   ]
  },
  {
   "cell_type": "code",
   "execution_count": null,
   "id": "cc2dbe6f",
   "metadata": {},
   "outputs": [],
   "source": [
    "ls = tree.hlo_ops[\"jit_train_step\"]"
   ]
  },
  {
   "cell_type": "code",
   "execution_count": null,
   "id": "f6c1312a",
   "metadata": {},
   "outputs": [],
   "source": [
    "type(ls)"
   ]
  },
  {
   "cell_type": "code",
   "execution_count": null,
   "id": "65bcb2de",
   "metadata": {},
   "outputs": [],
   "source": [
    "ls[\"%all-gather-start.29\"]"
   ]
  },
  {
   "cell_type": "code",
   "execution_count": null,
   "id": "8063efac",
   "metadata": {},
   "outputs": [],
   "source": [
    "keys = list(ls.keys())"
   ]
  },
  {
   "cell_type": "code",
   "execution_count": null,
   "id": "76468533",
   "metadata": {},
   "outputs": [],
   "source": [
    "len(keys)"
   ]
  },
  {
   "cell_type": "code",
   "execution_count": null,
   "metadata": {},
   "outputs": [],
   "source": []
  },
  {
   "cell_type": "code",
   "execution_count": null,
   "id": "339c3fa0",
   "metadata": {},
   "outputs": [],
   "source": [
    "tree.linking_key"
   ]
  },
  {
   "cell_type": "code",
   "execution_count": null,
   "id": "cd3c0993",
   "metadata": {},
   "outputs": [],
   "source": [
    "for ind in range(len(tree.events)):\n",
    "    if tree.events[ind].get('gpu_kernel_op_cat',\"NA\") == \"Communication rccl/nccl\":\n",
    "        print(f\"Index : {ind}\")\n",
    "        print(tree.events[ind])\n",
    "        break\n",
    "    "
   ]
  },
  {
   "cell_type": "code",
   "execution_count": null,
   "id": "449d6357",
   "metadata": {},
   "outputs": [],
   "source": [
    "tree.events[83]"
   ]
  },
  {
   "cell_type": "code",
   "execution_count": null,
   "id": "817ebc90",
   "metadata": {},
   "outputs": [],
   "source": [
    "from tensorboard_plugin_profile.convert import raw_to_tool_data as convert\n",
    "import itertools\n",
    "import json\n",
    "import os\n",
    "import re\n",
    "import glob"
   ]
  },
  {
   "cell_type": "code",
   "execution_count": null,
   "id": "3fca635f",
   "metadata": {},
   "outputs": [],
   "source": [
    "protobuf_file_name = \"/workspace/code/traces/logs/20250509_1604_mixtral/tw026/20250509_1604_mixtral/tensorboard/plugins/profile/2025_05_09_16_09_12/tw026.xplane.pb\""
   ]
  },
  {
   "cell_type": "code",
   "execution_count": null,
   "id": "e69cdabd",
   "metadata": {},
   "outputs": [],
   "source": [
    "dir_name = os.path.dirname(protobuf_file_name) + \"/\"\n",
    "print(dir_name)\n",
    "module_name = \"jit_train_step\""
   ]
  },
  {
   "cell_type": "markdown",
   "id": "b4cf6369",
   "metadata": {},
   "source": []
  },
  {
   "cell_type": "code",
   "execution_count": null,
   "id": "14e8b2e7",
   "metadata": {},
   "outputs": [],
   "source": [
    "print(f\"{dir_name}{os.path.sep}{module_name}*hlo_proto.pb\")"
   ]
  },
  {
   "cell_type": "code",
   "execution_count": null,
   "id": "7e1846da",
   "metadata": {},
   "outputs": [],
   "source": [
    "hlo_filename = glob.glob(dir_name + os.path.sep + module_name + \"*hlo_proto.pb\")\n",
    "hlo_filename"
   ]
  },
  {
   "cell_type": "code",
   "execution_count": null,
   "id": "ee0edbd3",
   "metadata": {},
   "outputs": [],
   "source": [
    "hlo_filename = glob.glob(dir_name + os.path.sep + module_name + \"*hlo_proto.pb\")\n",
    "if len(hlo_filename) != 1:\n",
    "    convert.xspace_to_tool_names([protobuf_file_name])\n",
    "hlo_filename = glob.glob(dir_name + os.path.sep + module_name + \"*hlo_proto.pb\")\n",
    "#assert len(hlo_filename) == 0\n",
    "if len(hlo_filename) > 1:\n",
    "    print('Multiple matching hlo_filenames:')\n",
    "    print(hlo_filename)\n",
    "elif len(hlo_filename) == 0:\n",
    "    print('No matching hlo_filenames:')\n",
    "    print(hlo_filename)\n"
   ]
  },
  {
   "cell_type": "code",
   "execution_count": null,
   "id": "995fe97c",
   "metadata": {},
   "outputs": [],
   "source": [
    "\n",
    "# need to make sure that the pb exists and get the numerical suffix into the module name\n",
    "# and remove '.hlo_proto.pb'\n",
    "module_name = os.path.splitext(os.path.splitext(os.path.basename(hlo_filename[0]))[0])[0]\n",
    "module_name\n"
   ]
  },
  {
   "cell_type": "code",
   "execution_count": null,
   "id": "5f21d1ce",
   "metadata": {},
   "outputs": [],
   "source": [
    "\n",
    "hlo_ops={}\n",
    "graph_viewer_options= {\n",
    "    'node_name': \"\",\n",
    "    'module_name': module_name,\n",
    "    'graph_width': 2,\n",
    "    'show_metadata': False,\n",
    "    'merge_fusion': False,\n",
    "    'type': \"long_txt\"\n",
    "}\n",
    "params = {'graph_viewer_options': graph_viewer_options }\n",
    "data, _ = convert.xspace_to_tool_data(\n",
    "        [dir_name], \"graph_viewer^\", params)\n",
    "data = data.decode(\"utf-8\").split('\\n')"
   ]
  },
  {
   "cell_type": "code",
   "execution_count": null,
   "id": "277e1a09",
   "metadata": {},
   "outputs": [],
   "source": [
    "len(data)"
   ]
  },
  {
   "cell_type": "code",
   "execution_count": null,
   "id": "1c0dd0db",
   "metadata": {},
   "outputs": [],
   "source": [
    "data[2]"
   ]
  },
  {
   "cell_type": "code",
   "execution_count": null,
   "id": "f8805a6c",
   "metadata": {},
   "outputs": [],
   "source": [
    "for ind in range(len(data)):\n",
    "    if \"all-to-all.225.1\" in data[ind]:\n",
    "        print(data[ind])\n",
    "        break"
   ]
  },
  {
   "cell_type": "code",
   "execution_count": null,
   "id": "c3d08650",
   "metadata": {},
   "outputs": [],
   "source": [
    "for line in data:\n",
    "    line_processed=line.strip()\n",
    "    if ((\"metadata\" in line_processed and not(re.search(r\"\\)$\",line_processed)) and not(line_processed.startswith(\"ROOT\")))\n",
    "            or any(t in line_processed for t in [\"get-tuple-element\", \"bf16\", \"f8\", \"f16\", \"f32\", \"f64\"])\n",
    "            and not(line_processed.startswith(\"HloModule \"))):\n",
    "            if \"replica_groups\" in line_processed:\n",
    "                print(line)\n",
    "                break\n",
    "            # print(line)\n",
    "            # line=re.sub(r\"\\),\",\")\",line)\n",
    "            # print(line)\n",
    "            # line=re.sub(r\", \",\",\",line)\n",
    "            # print(line)\n",
    "            # line=re.sub(r\" %\",\"%\",line)\n",
    "            # print(line)"
   ]
  },
  {
   "cell_type": "code",
   "execution_count": null,
   "id": "7e34eb2f",
   "metadata": {},
   "outputs": [],
   "source": [
    "line = '%all-gather-start.28 = ((bf16[1,768,48,128]{3,2,0,1}, bf16[1,768,8,128]{3,2,0,1}, bf16[1,768,8,128]{3,2,0,1}), (bf16[1,6144,48,128]{3,2,0,1}, bf16[1,6144,8,128]{3,2,0,1}, bf16[1,6144,8,128]{3,2,0,1})) all-gather-start(%get-tuple-element.24226, %get-tuple-element.24230, %get-tuple-element.24231), channel_id=5, replica_groups={{0,1,2,3,4,5,6,7},{8,9,10,11,12,13,14,15},{16,17,18,19,20,21,22,23},{24,25,26,27,28,29,30,31}}, dimensions={1}, use_global_device_ids=true, metadata={scheduling_name=\"all-gather-start.28\"}, backend_config={\"operation_queue_id\":\"0\",\"wait_on_operation_queues\":[],\"collective_backend_config\":{\"is_sync\":false,\"no_parallel_custom_call\":true,\"is_pipelined\":false},\"force_earliest_schedule\":false}'\n",
    "print(line)\n",
    "line=re.sub(r\"\\),\",\")\",line)\n",
    "print(line)\n",
    "line=re.sub(r\", \",\",\",line)\n",
    "print(line)\n",
    "line=re.sub(r\" %\",\"%\",line)\n",
    "print(line)"
   ]
  },
  {
   "cell_type": "code",
   "execution_count": null,
   "id": "fcc8552c",
   "metadata": {},
   "outputs": [],
   "source": [
    "backend_config=re.search(r\"backend_config=\\{[a-zA-Z_=\\\"\\(\\)\\/0-9\\ @.-:,\\[\\]\\{\\}]*\",line)\n",
    "print(backend_config)\n",
    "metadata=re.search(r\"metadata=\\{[a-zA-Z_=\\\"\\(\\)\\/0-9\\ @.-]*\",line)\n",
    "print(metadata)\n",
    "custom_call_target=re.search(r\"custom_call_target=\\\"[a-zA-Z_=\\\"\\(\\)\\/0-9\\ @.\\-\\$]*\",line)\n",
    "print(custom_call_target)\n",
    "line=line.split(\" \")\n",
    "print(line)"
   ]
  },
  {
   "cell_type": "code",
   "execution_count": null,
   "id": "be53a866",
   "metadata": {},
   "outputs": [],
   "source": [
    "import argparse\n",
    "import sys\n",
    "from glob import glob\n",
    "from pathlib import Path\n",
    "import re\n",
    "import gzip\n",
    "import json\n",
    "import pandas as pd\n",
    "import matplotlib.pyplot as plt\n",
    "import numpy as np\n",
    "import math\n",
    "import os\n",
    "from tensorboard_plugin_profile.convert import raw_to_tool_data as convert\n",
    "import os\n",
    "import rccl_multinode_analysis as rma"
   ]
  },
  {
   "cell_type": "code",
   "execution_count": null,
   "id": "35890c1c",
   "metadata": {},
   "outputs": [],
   "source": [
    "xla_dump = \"/workspace/code/JaxTrace_Analysis/logs/20250509_1604_mixtral/tw026/xla_dumps\""
   ]
  },
  {
   "cell_type": "code",
   "execution_count": null,
   "id": "ff991e0d",
   "metadata": {},
   "outputs": [],
   "source": [
    "tmp = rma.detect_xla_file(xla_dump)\n",
    "print(tmp)"
   ]
  },
  {
   "cell_type": "code",
   "execution_count": null,
   "id": "2beb8b20",
   "metadata": {},
   "outputs": [],
   "source": [
    "messages, replica_groups = rma.read_xla_dump(tmp)"
   ]
  },
  {
   "cell_type": "code",
   "execution_count": null,
   "id": "3a2d9a72",
   "metadata": {},
   "outputs": [],
   "source": [
    "messages[\"all-gather-start.10\"]"
   ]
  },
  {
   "cell_type": "code",
   "execution_count": null,
   "id": "690e0d8d",
   "metadata": {},
   "outputs": [],
   "source": [
    "replica_groups[\"all-gather-start.28\"]"
   ]
  }
 ],
 "metadata": {
  "kernelspec": {
   "display_name": "3.10.12",
   "language": "python",
   "name": "python3"
  },
  "language_info": {
   "codemirror_mode": {
    "name": "ipython",
    "version": 3
   },
   "file_extension": ".py",
   "mimetype": "text/x-python",
   "name": "python",
   "nbconvert_exporter": "python",
   "pygments_lexer": "ipython3",
   "version": "3.10.12"
  }
 },
 "nbformat": 4,
 "nbformat_minor": 5
}
