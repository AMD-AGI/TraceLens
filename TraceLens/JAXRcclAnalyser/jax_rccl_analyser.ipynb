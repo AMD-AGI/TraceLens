{
 "cells": [
  {
   "cell_type": "code",
   "execution_count": null,
   "id": "010e61b1",
   "metadata": {},
   "outputs": [],
   "source": [
    "# Scratch notebook to test rccl-analysis code"
   ]
  },
  {
   "cell_type": "code",
   "execution_count": null,
   "id": "b01bda40",
   "metadata": {},
   "outputs": [],
   "source": [
    "# import os\n",
    "# print(\"Current directory:\", os.getcwd())\n",
    "# print(\"Files in current directory:\", os.listdir('.'))\n",
    "# print(\"Looking for jax_rccl_analyser.py:\", os.path.exists('jax_rccl_analyser.py'))"
   ]
  },
  {
   "cell_type": "code",
   "execution_count": null,
   "id": "030beb5d",
   "metadata": {},
   "outputs": [],
   "source": [
    "import sys\n",
    "sys.path.append('/workspace/code/TraceLens/TraceLens/JAXRcclAnayser')\n",
    "from jax_rccl_analyser import RcclAnalyser"
   ]
  },
  {
   "cell_type": "code",
   "execution_count": null,
   "id": "3d83de3f",
   "metadata": {},
   "outputs": [],
   "source": [
    "traces_dir = \"/workspace/code/traces/logs/20250509_1604_mixtral\"\n",
    "rank_to_pb_file_mapping = {}\n",
    "world_size= 16\n",
    "rank_to_pb_file_mapping[\"0\"] = \"/workspace/code/traces/logs/20250509_1604_mixtral/tw026/20250509_1604_mixtral/tensorboard/plugins/profile/2025_05_09_16_09_12/tw026.xplane.pb\"\n",
    "rank_to_pb_file_mapping[\"1\"] = \"/workspace/code/traces/logs/20250509_1604_mixtral/tw034/20250509_1604_mixtral/tensorboard/plugins/profile/2025_05_09_16_09_12/tw034.xplane.pb\"\n",
    "# rank_to_pb_file_mapping[\"2\"] = \"/workspace/code/traces/logs/20250509_1604_mixtral/tw035/20250509_1604_mixtral/tensorboard/plugins/profile/2025_05_09_16_09_12/tw035.xplane.pb\"\n",
    "# rank_to_pb_file_mapping[\"3\"] = \"/workspace/code/traces/logs/20250509_1604_mixtral/tw052/20250509_1604_mixtral/tensorboard/plugins/profile/2025_05_09_16_09_12/tw052.xplane.pb\""
   ]
  },
  {
   "cell_type": "code",
   "execution_count": null,
   "id": "769990e2",
   "metadata": {},
   "outputs": [],
   "source": [
    "rccl_analyser = RcclAnalyser(traces_dir,rank_to_pb_file_mapping,world_size)"
   ]
  },
  {
   "cell_type": "code",
   "execution_count": null,
   "id": "27d8c03f",
   "metadata": {},
   "outputs": [],
   "source": [
    "df = rccl_analyser.build_df_long()"
   ]
  },
  {
   "cell_type": "code",
   "execution_count": null,
   "id": "8d7cc62c",
   "metadata": {},
   "outputs": [],
   "source": [
    "all_gather_28_df = df[df[\"collective_name\"] == \"all-gather-start.28\"]"
   ]
  },
  {
   "cell_type": "code",
   "execution_count": null,
   "id": "a89b2959",
   "metadata": {},
   "outputs": [],
   "source": [
    "all_gather_28_df"
   ]
  },
  {
   "cell_type": "code",
   "execution_count": null,
   "id": "1d0c7651",
   "metadata": {},
   "outputs": [],
   "source": [
    "# Filter DataFrame based on gpu_rank and pid\n",
    "# Example: Filter for gpu_rank = 0 and pid = 1\n",
    "filtered_df = all_gather_28_df[(all_gather_28_df['gpu_rank'] == 0) & (all_gather_28_df['pid'] == 1)]\n",
    "# Sort by timestamp (ts) column\n",
    "filtered_df = filtered_df.sort_values('ts').copy()\n",
    "# Convert timestamps from nanoseconds to microseconds\n",
    "filtered_df['ts_us'] = filtered_df['ts'] / 1000\n",
    "\n",
    "# Reorder columns to have ts_us next to ts\n",
    "cols = filtered_df.columns.tolist()\n",
    "ts_index = cols.index('ts')\n",
    "cols.insert(ts_index + 1, cols.pop(cols.index('ts_us')))\n",
    "filtered_df = filtered_df[cols]\n",
    "\n",
    "print(f\"Original DataFrame shape: {all_gather_28_df.shape}\")\n",
    "print(f\"Filtered DataFrame shape: {filtered_df.shape}\")\n",
    "filtered_df"
   ]
  },
  {
   "cell_type": "code",
   "execution_count": null,
   "id": "6074383d",
   "metadata": {},
   "outputs": [],
   "source": []
  },
  {
   "cell_type": "code",
   "execution_count": null,
   "id": "65e50ede",
   "metadata": {},
   "outputs": [],
   "source": [
    "# More filtering examples:\n",
    "\n",
    "# 1. Filter for specific gpu_rank only\n",
    "gpu_rank_0_df = all_gather_28_df[all_gather_28_df['gpu_rank'] == 0]\n",
    "print(f\"Events for gpu_rank 0: {gpu_rank_0_df.shape[0]} events\")\n",
    "\n",
    "# 2. Filter for specific pid only\n",
    "pid_1_df = all_gather_28_df[all_gather_28_df['pid'] == 1]\n",
    "print(f\"Events for pid 1: {pid_1_df.shape[0]} events\")\n",
    "\n",
    "# 3. Filter for multiple gpu_ranks\n",
    "multi_gpu_ranks_df = all_gather_28_df[all_gather_28_df['gpu_rank'].isin([0, 15])]\n",
    "print(f\"Events for gpu_ranks 0 and 15: {multi_gpu_ranks_df.shape[0]} events\")\n",
    "\n",
    "# 4. Show unique values for reference\n",
    "print(f\"\\nUnique gpu_ranks: {sorted(all_gather_28_df['gpu_rank'].unique())}\")\n",
    "print(f\"Unique pids: {sorted(all_gather_28_df['pid'].unique())}\")\n",
    "\n",
    "# 5. Group by gpu_rank and pid to see distribution\n",
    "distribution = all_gather_28_df.groupby(['gpu_rank', 'pid']).size().reset_index(name='count')\n",
    "print(f\"\\nDistribution of events by gpu_rank and pid:\")\n",
    "distribution"
   ]
  },
  {
   "cell_type": "code",
   "execution_count": null,
   "id": "a532f32a",
   "metadata": {},
   "outputs": [],
   "source": [
    "df = rccl_analyser.build_df_nccl_implicit_sync_cat()"
   ]
  },
  {
   "cell_type": "code",
   "execution_count": null,
   "id": "18e9986e",
   "metadata": {},
   "outputs": [],
   "source": [
    "df."
   ]
  },
  {
   "cell_type": "code",
   "execution_count": null,
   "id": "10a6e68a",
   "metadata": {},
   "outputs": [],
   "source": [
    "rccl_analyser.df_implicit_sync_cat_detailed.head()"
   ]
  },
  {
   "cell_type": "code",
   "execution_count": null,
   "id": "545471b2",
   "metadata": {},
   "outputs": [],
   "source": [
    "rccl_analyser.df_implicit_sync_cat_detailed[rccl_analyser.df_implicit_sync_cat_detailed[\"collective_name\"] == \"all-reduce-start\"]"
   ]
  },
  {
   "cell_type": "code",
   "execution_count": null,
   "id": "994ed8a2",
   "metadata": {},
   "outputs": [],
   "source": [
    "sum_comm_latency = rccl_analyser.df_implicit_sync_cat_detailed[rccl_analyser.df_implicit_sync_cat_detailed[\"collective_name\"] == \"all-gather-start.197\"][\"comm_latency\"].sum()"
   ]
  },
  {
   "cell_type": "code",
   "execution_count": null,
   "id": "402645c5",
   "metadata": {},
   "outputs": [],
   "source": [
    "sum_comm_latency*1e-9"
   ]
  },
  {
   "cell_type": "code",
   "execution_count": null,
   "id": "a833621f",
   "metadata": {},
   "outputs": [],
   "source": [
    "rccl_analyser.collectives_size_map[\"all-reduce-start\"][1]"
   ]
  },
  {
   "cell_type": "code",
   "execution_count": null,
   "id": "2f87b13c",
   "metadata": {},
   "outputs": [],
   "source": [
    "rccl_analyser.collectives_size_map[\"all-gather-start.197\"]"
   ]
  },
  {
   "cell_type": "code",
   "execution_count": null,
   "id": "7c4e7521",
   "metadata": {},
   "outputs": [],
   "source": [
    "201326592/(1024*1024)\n"
   ]
  },
  {
   "cell_type": "code",
   "execution_count": null,
   "id": "c7e286f3",
   "metadata": {},
   "outputs": [],
   "source": [
    "192/2.705485e-05"
   ]
  },
  {
   "cell_type": "code",
   "execution_count": null,
   "id": "f1584f9a",
   "metadata": {},
   "outputs": [],
   "source": [
    "import re\n",
    "\n",
    "# Get unique collective names\n",
    "collective_names = df['collective_name'].unique()\n",
    "\n",
    "# Extract operation names without numbers\n",
    "def extract_base_operation_name(name):\n",
    "    # Remove numbers and dots at the end\n",
    "    base_name = re.sub(r'\\.\\d+.*$', '', name)\n",
    "    # Remove standalone numbers at the end\n",
    "    base_name = re.sub(r'\\.\\d+$', '', base_name)\n",
    "    return base_name\n",
    "\n",
    "# Get unique base operation names\n",
    "base_operations = set()\n",
    "for name in collective_names:\n",
    "    base_name = extract_base_operation_name(name)\n",
    "    base_operations.add(base_name)\n",
    "\n",
    "# Sort for consistent output\n",
    "unique_base_operations = sorted(list(base_operations))\n",
    "print(\"Unique collective operation types:\")\n",
    "for op in unique_base_operations:\n",
    "    print(f\"  - {op}\")"
   ]
  },
  {
   "cell_type": "code",
   "execution_count": null,
   "id": "e17fcd5f",
   "metadata": {},
   "outputs": [],
   "source": [
    "rccl_analyser.collectives_size_map[\"all-gather-start.197\"][2]"
   ]
  },
  {
   "cell_type": "code",
   "execution_count": null,
   "id": "ba5597aa",
   "metadata": {},
   "outputs": [],
   "source": [
    "df[df[\"collective_name\"] == \"all-gather-start.197\"]"
   ]
  },
  {
   "cell_type": "code",
   "execution_count": null,
   "id": "21591507",
   "metadata": {},
   "outputs": [],
   "source": [
    "rank_events = df[df[\"collective_id\"] == \"all-gather-start.197_2\"]"
   ]
  },
  {
   "cell_type": "code",
   "execution_count": null,
   "id": "8212e87a",
   "metadata": {},
   "outputs": [],
   "source": [
    "rank_events.reset_index(drop=True)"
   ]
  }
 ],
 "metadata": {
  "kernelspec": {
   "display_name": "3.10.12",
   "language": "python",
   "name": "python3"
  },
  "language_info": {
   "codemirror_mode": {
    "name": "ipython",
    "version": 3
   },
   "file_extension": ".py",
   "mimetype": "text/x-python",
   "name": "python",
   "nbconvert_exporter": "python",
   "pygments_lexer": "ipython3",
   "version": "3.10.12"
  }
 },
 "nbformat": 4,
 "nbformat_minor": 5
}
