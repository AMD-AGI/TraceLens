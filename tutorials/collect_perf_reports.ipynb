{
 "cells": [
  {
   "cell_type": "markdown",
   "id": "06228744",
   "metadata": {},
   "source": [
    "## Background\n",
    "\n",
    "There are separate tools and scripts to collect performance data on jax traces. e.g.\n",
    "1. Tracelens/examples/generate_perf_report.py: PerfModel.torch_op_mapping, TreePerfAnalyzer\n",
    "- df_gpu_timeline -> get_kernal_events -> GPUEventAnalyser.compute_metrics_dict(dict_events) -> breakdown\n",
    "- df_kernel_launchers -> get_df_kernel_launchers -> get_kernel_launchers -> 'traverses the event tree', parent-child-grandchild?\n",
    "- *df_kernel_launchers_summary* -> get_df_kernel_launchers_summary\n",
    "- *df_kernel_launchers_summary_by_category* -> get_df_kernel_launchers_summary_by_category\n",
    "- *df_kernel_launchers_unique_args* -> get_df_kernel_launchers_unique_args\n",
    "- df_op_x -> dict_cat2names -> op_to_perf_model_class_map\n",
    "- df_op_x -> loop_and_aggregate_kernels -> agg_kernels_in_subtree -> GPUEventAnalyser.compute_metrics_dict(dict_events) -> breakdown\n",
    "2. Tracelens/Reporting/gererate_perf_report_jax_analysis.py: jax_analyses\n",
    "- df_gpu_events_averages -> summarize_gpu_events -> JaxGPUEventAnalyser.compute_metrics_dict(dict_events) -> breakdown\n",
    "- df_gpu_events_categorized\n",
    "- df_xla_grouped\n",
    "- df_gemms_detailed\n",
    "3. JaxTrace_Analysis\n",
    "- df_gemm_perf_info\n",
    "- df_perf_breakdown\n",
    "- gemm_roofline\n",
    "- attention_roofline\n",
    "- rccl\n",
    "- xla_op\n",
    "- hlo_op\n",
    "\n"
   ]
  },
  {
   "cell_type": "code",
   "execution_count": 3,
   "id": "b6cf855b",
   "metadata": {},
   "outputs": [],
   "source": [
    "# Imports\n",
    "import os, sys\n",
    "from pprint import pprint\n",
    "import json\n",
    "import pandas as pd\n",
    "from itertools import chain\n",
    "from collections import Counter\n",
    "\n",
    "from TraceLens import DataLoader\n",
    "from TraceLens import TraceToTree, JaxAnalyses, TraceEventUtils, TreePerfAnalyzer\n",
    "\n",
    "# Configs\n",
    "home_dir='/home/guangphu'\n",
    "data_dir='perf-profiling/midj_traces'\n",
    "# jax xplane.pb\n",
    "trace_id='mi355x/hunyuan_t129/plugins/profile/2025_06_25_12_43_37'\n",
    "trace_fname='chi-mi300x-007.ord.vultr.cpe.ice.amd.com'\n",
    "trace_ext='.xplane.pb'\n",
    "trace_dir=os.path.join(home_dir, data_dir, trace_id) \n",
    "trace_path=os.path.join(home_dir, data_dir, trace_id, trace_fname) + trace_ext \n",
    "os.path.exists(trace_path)\n",
    "trace_path_jax = trace_path\n",
    "# pytorch trace.json\n",
    "trace_id='tts-traces/tts-traces-h100/bs16/rank_0/'\n",
    "trace_fname='rocm-framework-h100-sxm-1_60628.1751372362949836640'\n",
    "trace_ext='.pt.trace.json'\n",
    "trace_dir=os.path.join(home_dir, data_dir, trace_id) \n",
    "trace_path=os.path.join(home_dir, data_dir, trace_id, trace_fname) + trace_ext\n",
    "os.path.exists(trace_path)\n",
    "trace_path_pytorch = trace_path\n"
   ]
  },
  {
   "cell_type": "markdown",
   "id": "e73da478",
   "metadata": {},
   "source": [
    "## Trace2Tree"
   ]
  },
  {
   "cell_type": "code",
   "execution_count": null,
   "id": "e067d0b5",
   "metadata": {},
   "outputs": [
    {
     "name": "stdout",
     "output_type": "stream",
     "text": [
      "length of pt events: 1895761\n"
     ]
    },
    {
     "name": "stderr",
     "output_type": "stream",
     "text": [
      "2025-08-08 07:12:00.372981: I tensorflow/core/util/port.cc:153] oneDNN custom operations are on. You may see slightly different numerical results due to floating-point round-off errors from different computation orders. To turn them off, set the environment variable `TF_ENABLE_ONEDNN_OPTS=0`.\n",
      "2025-08-08 07:12:00.396264: I external/local_xla/xla/tsl/cuda/cudart_stub.cc:32] Could not find cuda drivers on your machine, GPU will not be used.\n",
      "2025-08-08 07:12:00.578546: I external/local_xla/xla/tsl/cuda/cudart_stub.cc:32] Could not find cuda drivers on your machine, GPU will not be used.\n",
      "2025-08-08 07:12:00.723127: E external/local_xla/xla/stream_executor/cuda/cuda_fft.cc:467] Unable to register cuFFT factory: Attempting to register factory for plugin cuFFT when one has already been registered\n",
      "WARNING: All log messages before absl::InitializeLog() is called are written to STDERR\n",
      "E0000 00:00:1754637120.844882 1274858 cuda_dnn.cc:8579] Unable to register cuDNN factory: Attempting to register factory for plugin cuDNN when one has already been registered\n",
      "E0000 00:00:1754637120.881456 1274858 cuda_blas.cc:1407] Unable to register cuBLAS factory: Attempting to register factory for plugin cuBLAS when one has already been registered\n",
      "W0000 00:00:1754637121.189560 1274858 computation_placer.cc:177] computation placer already registered. Please check linkage and avoid linking the same target more than once.\n",
      "W0000 00:00:1754637121.189616 1274858 computation_placer.cc:177] computation placer already registered. Please check linkage and avoid linking the same target more than once.\n",
      "W0000 00:00:1754637121.189618 1274858 computation_placer.cc:177] computation placer already registered. Please check linkage and avoid linking the same target more than once.\n",
      "W0000 00:00:1754637121.189620 1274858 computation_placer.cc:177] computation placer already registered. Please check linkage and avoid linking the same target more than once.\n",
      "2025-08-08 07:12:01.224417: I tensorflow/core/platform/cpu_feature_guard.cc:210] This TensorFlow binary is optimized to use available CPU instructions in performance-critical operations.\n",
      "To enable the following instructions: AVX2 AVX512F AVX512_VNNI AVX512_BF16 FMA, in other operations, rebuild TensorFlow with the appropriate compiler flags.\n",
      "WARNING: All log messages before absl::InitializeLog() is called are written to STDERR\n",
      "I0000 00:00:1754637127.581236 1274858 xplane_to_tools_data.cc:376] serving tool: trace_viewer@ with options: {}\n",
      "I0000 00:00:1754637136.079416 1274858 trace_events.cc:389] Loaded 1982601 events after filtering 0 events from LevelDb fast file: /home/guangphu/perf-profiling/midj_traces/mi355x/hunyuan_t129/plugins/profile/2025_06_25_12_43_37/chi-mi300x-007.ord.vultr.cpe.ice.amd.com.SSTABLE\n",
      "I0000 00:00:1754637136.227364 1274858 trace_events.cc:398] Added 1982601 visible events from LevelDb fast file: /home/guangphu/perf-profiling/midj_traces/mi355x/hunyuan_t129/plugins/profile/2025_06_25_12_43_37/chi-mi300x-007.ord.vultr.cpe.ice.amd.com.SSTABLE\n",
      "I0000 00:00:1754637138.279716 1274858 trace_events_to_json.h:80] Generated JSON events: complete: 1982601 complete+flow: 0 counter: 0 async: 0\n"
     ]
    },
    {
     "name": "stdout",
     "output_type": "stream",
     "text": [
      "Length of jax events: 1982839\n"
     ]
    }
   ],
   "source": [
    "data = DataLoader.load_data(trace_path_pytorch)\n",
    "events_pt=data[\"traceEvents\"]\n",
    "data = DataLoader.load_data(trace_path_jax)\n",
    "events_jax=data[\"traceEvents\"]"
   ]
  },
  {
   "cell_type": "markdown",
   "id": "0bf0fd35",
   "metadata": {},
   "source": [
    "##### Event keys"
   ]
  },
  {
   "cell_type": "code",
   "execution_count": 11,
   "id": "b3fa4348",
   "metadata": {},
   "outputs": [
    {
     "name": "stdout",
     "output_type": "stream",
     "text": [
      "torch keys: 11 {'pid', 'dur', 'cat', 'ts', 'args', 'id', 'bp', 'tid', 's', 'ph', 'name'}\n",
      "number of torch events: 1895761, unique event names: 1101\n",
      "torch event key counts: Counter({'ph': 1895761, 'name': 1895761, 'pid': 1895761, 'tid': 1895761, 'ts': 1895761, 'cat': 1895689, 'args': 1754535, 'dur': 1686174, 'id': 141205, 'bp': 81114, 's': 68312})\n",
      "jax keys 10 {'z', 'dur', 'ts', 'sf', 'tid', 'args', 'pid', 'thread_count', 'ph', 'name'}\n",
      "number of jax events: 1982839, unique event names: 11388\n",
      "jax event key counts: Counter({'args': 1982839, 'name': 1982839, 'ph': 1982839, 'pid': 1982839, 'tid': 1982821, 'ts': 1982601, 'dur': 1982601, 'z': 264583, 'sf': 184277, 'thread_count': 9})\n",
      "common kyes: 7 ['pid', 'dur', 'ts', 'args', 'tid', 'ph', 'name']\n",
      "unique to torch: 4 ['cat', 'id', 'bp', 's']\n",
      "unique to jax: 3 ['z', 'sf', 'thread_count']\n"
     ]
    }
   ],
   "source": [
    "# Using set comprehension with itertools.chain.from_iterable\n",
    "names = [e['name'] for e in events_pt]\n",
    "set_keys_pt = set(chain.from_iterable(d.keys() for d in events_pt))\n",
    "print('torch keys:', len(set_keys_pt), set_keys_pt)\n",
    "all_keys = []\n",
    "for d in events_pt:\n",
    "    all_keys.extend(d.keys())\n",
    "key_counts = Counter(all_keys)\n",
    "print(f'number of torch events: {len(events_pt)}, unique event names: {len(set(names))}', )\n",
    "print('torch event key counts:', key_counts)\n",
    "\n",
    "names = [e['name'] for e in events_jax]\n",
    "set_keys_jax = set(chain.from_iterable(d.keys() for d in events_jax))\n",
    "print('jax keys', len(set_keys_jax), set_keys_jax)\n",
    "all_keys = []\n",
    "for d in events_jax:\n",
    "    all_keys.extend(d.keys())\n",
    "key_counts = Counter(all_keys)\n",
    "print(f'number of jax events: {len(events_jax)}, unique event names: {len(set(names))}')\n",
    "print('jax event key counts:',key_counts)\n",
    "\n",
    "keys_common = [_key for _key in set_keys_pt if _key in set_keys_jax]\n",
    "keys_uniq_jax = [_key for _key in set_keys_jax if _key not in set_keys_pt]\n",
    "keys_uniq_pt = [_key for _key in set_keys_pt if _key not in set_keys_jax]\n",
    "print('common kyes:', len(keys_common), keys_common)\n",
    "print('unique to torch:', len(keys_uniq_pt), keys_uniq_pt)\n",
    "print('unique to jax:', len(keys_uniq_jax), keys_uniq_jax)"
   ]
  },
  {
   "cell_type": "markdown",
   "id": "975e913f",
   "metadata": {},
   "source": [
    "##### Example Event"
   ]
  },
  {
   "cell_type": "code",
   "execution_count": 6,
   "id": "232c11f2",
   "metadata": {},
   "outputs": [
    {
     "name": "stdout",
     "output_type": "stream",
     "text": [
      "uniq to jax: z 3\n",
      "uniq to jax: sf None\n",
      "uniq to jax: thread_count None\n",
      "common key: pid 1\n",
      "common key: dur 6.931\n",
      "common key: ts 233560.213\n",
      "common key: args {'correlation_id': 34507, 'theoretical_occupancy_pct': 0, 'occupancy_min_grid_size': 0, 'occupancy_suggested_block_size': 0, 'tf_op': 'XlaModule:', 'name': 'jit(train_step)/jit(main)/dot_general', 'hlo_op': 'gemm_fusion_dot.607.0', 'hlo_module': 'jit_train_step', 'is_eager': 0}\n",
      "common key: tid 1\n",
      "common key: ph X\n",
      "common key: name gemm_fusion_dot_571_0\n",
      "uniq to pt: cat cpu_op\n",
      "uniq to pt: id None\n",
      "uniq to pt: bp None\n",
      "uniq to pt: s None\n",
      "common key: pid 60628\n",
      "common key: dur 31.199\n",
      "common key: ts 7850735315604.46\n",
      "common key: args {'External id': 860, 'Record function id': 0, 'finished': True, 'Ev Idx': 859}\n",
      "common key: tid 60628\n",
      "common key: ph X\n",
      "common key: name TorchDynamo Cache Lookup\n"
     ]
    }
   ],
   "source": [
    "_event = events_jax[999] \n",
    "for _key in keys_uniq_jax:\n",
    "    print('uniq to jax:', _key, _event.get(_key, None))\n",
    "for _key in keys_common:\n",
    "    print('common key:', _key, _event[_key])\n",
    "\n",
    "_event = events_pt[999]\n",
    "for _key in keys_uniq_pt:\n",
    "    print('uniq to pt:', _key, _event.get(_key, None))\n",
    "for _key in keys_common:\n",
    "    print('common key:', _key, _event[_key])"
   ]
  },
  {
   "cell_type": "markdown",
   "id": "39085fb3",
   "metadata": {},
   "source": [
    "##### Tree categories"
   ]
  },
  {
   "cell_type": "code",
   "execution_count": 12,
   "id": "32cde401",
   "metadata": {},
   "outputs": [
    {
     "name": "stdout",
     "output_type": "stream",
     "text": [
      "jax number of events: 1982839 \n",
      "cats: 5 {'memcpy', 'Unknown', 'kernel', 'cpu_op', 'python function'}\n",
      "torch number of events:: 1895689 \n",
      "cats: 14 {'ac2g', 'gpu_memcpy', 'Trace', 'cuda_driver', 'gpu_memset', 'user_annotation', 'gpu_user_annotation', 'cpu_instant_event', 'cuda_runtime', 'python_function', 'kernel', 'cpu_op', 'overhead', 'fwdbwd'}\n"
     ]
    }
   ],
   "source": [
    "#jax tree\n",
    "trace_events = events_jax\n",
    "categorizer_jax =  JaxAnalyses.prepare_event_categorizer(trace_events)\n",
    "trace_events = TraceEventUtils.non_metadata_events(trace_events)\n",
    "events, categorizer = events_jax, categorizer_jax\n",
    "cats = [categorizer(e) for e in events if categorizer(e)]\n",
    "print('jax number of events:', len(cats), '\\ncats:', len(set(cats)), set(cats))\n",
    "\n",
    "# torch tree\n",
    "trace_events = events_pt \n",
    "categorizer_pt = TraceToTree.default_categorizer \n",
    "events, categorizer = events_pt, categorizer_pt\n",
    "cats = [categorizer(e) for e in events if categorizer(e)]\n",
    "print('torch number of events::', len(cats), '\\ncats:', len(set(cats)), set(cats))\n"
   ]
  },
  {
   "cell_type": "markdown",
   "id": "6c07b107",
   "metadata": {},
   "source": [
    "## Performance\n",
    "\n",
    "### 1. Temporal Breakdown\n",
    "- Breakdown of time taken by the GPUs in terms of time spent in computation, communication, memory events, and idle time across all ranks.\n"
   ]
  },
  {
   "cell_type": "code",
   "execution_count": 16,
   "id": "56c81de1",
   "metadata": {},
   "outputs": [
    {
     "data": {
      "text/plain": [
       "((173931, 17),\n",
       "    pid  tid                      name         ts   dur ph  \\\n",
       " 0    1    1  loop_convert_fusion_1111  164176.73  2.28  X   \n",
       " 1    1    1        loop_add_fusion_51  164208.66  2.28  X   \n",
       " 2    1    1        loop_add_fusion_52  164237.70  2.32  X   \n",
       " \n",
       "                                                 args    z  UID      t_end  \\\n",
       " 0  {'correlation_id': 245, 'theoretical_occupancy...  2.0    0  164179.02   \n",
       " 1  {'correlation_id': 259, 'theoretical_occupancy...  3.0    1  164210.94   \n",
       " 2  {'correlation_id': 268, 'theoretical_occupancy...  2.0    2  164240.03   \n",
       " \n",
       "                                              process  \\\n",
       " 0  {'process_name': 'chi-mi300x-007.ord.vultr.cpe...   \n",
       " 1  {'process_name': 'chi-mi300x-007.ord.vultr.cpe...   \n",
       " 2  {'process_name': 'chi-mi300x-007.ord.vultr.cpe...   \n",
       " \n",
       "                                               thread   parent  tree  \\\n",
       " 0  {'thread_name': 'Stream #1(Kernel,Memset)', 't...  1821028  True   \n",
       " 1  {'thread_name': 'Stream #1(Kernel,Memset)', 't...  1821029  True   \n",
       " 2  {'thread_name': 'Stream #1(Kernel,Memset)', 't...  1821030  True   \n",
       " \n",
       "                                             metadata     cat gpu_events  \n",
       " 0  {'output': 'f32[]', 'operands': [''], 'computa...  kernel        [0]  \n",
       " 1  {'output': 's32[]', 'operands': ['s32[]%param....  kernel        [1]  \n",
       " 2  {'output': 'u32[]', 'operands': ['u32[]%param....  kernel        [2]  )"
      ]
     },
     "execution_count": 16,
     "metadata": {},
     "output_type": "execute_result"
    }
   ],
   "source": [
    "kernel_events = '/home/guangphu/perf-profiling/logs/tracelens/jax/trace_analysis_results_kernel_events.csv'\n",
    "df = pd.read_csv(kernel_events)\n",
    "df.shape, df.head(3)"
   ]
  },
  {
   "cell_type": "markdown",
   "id": "ca6622fe",
   "metadata": {},
   "source": [
    "### 2. Kernel Breakdown\n"
   ]
  },
  {
   "cell_type": "code",
   "execution_count": null,
   "id": "57aea31f",
   "metadata": {},
   "outputs": [
    {
     "name": "stdout",
     "output_type": "stream",
     "text": [
      "(29760, 10)         name op category  UID  total_direct_kernel_time  direct_kernel_count  \\\n",
      "0  aten::cat       other    3                      4.09                    1   \n",
      "1  aten::cat       other    6                      3.62                    1   \n",
      "2  aten::cat       other   16                      3.33                    1   \n",
      "\n",
      "                                   Input Dims                Input type  \\\n",
      "0         (((16, 256, 1), (16, 256, 32)), ())  ('TensorList', 'Scalar')   \n",
      "1         (((16, 256, 1), (16, 256, 32)), ())  ('TensorList', 'Scalar')   \n",
      "2  (((32,), (131072,), (64,), (262144,)), ())  ('TensorList', 'Scalar')   \n",
      "\n",
      "                        Input Strides Concrete Inputs  \\\n",
      "0  (((256, 1, 1), (8192, 32, 1)), ())      ('', '-1')   \n",
      "1  (((256, 1, 1), (8192, 32, 1)), ())      ('', '-1')   \n",
      "2      (((1,), (1,), (1,), (1,)), ())       ('', '0')   \n",
      "\n",
      "                                        kernel_names  \n",
      "0  ['void at::native::(anonymous namespace)::CatA...  \n",
      "1  ['void at::native::(anonymous namespace)::CatA...  \n",
      "2  ['void at::native::(anonymous namespace)::CatA...  \n"
     ]
    }
   ],
   "source": [
    "kernel_launchers = '/home/guangphu/perf-profiling/logs/tracelens/pytorch/trace_analysis_results_kernel_launchers.csv'\n",
    "df = pd.read_csv(kernel_launchers)\n",
    "# print(df.shape, df.head(3))\n"
   ]
  },
  {
   "cell_type": "code",
   "execution_count": 11,
   "id": "f5aefe3c",
   "metadata": {},
   "outputs": [
    {
     "name": "stdout",
     "output_type": "stream",
     "text": [
      "1 (21764, 13)\n",
      "number of uniq names 821\n",
      "2 (21761, 13)\n",
      "number of uniq names 821\n",
      "3 (21761, 13)\n",
      "number of uniq names 821\n",
      "4 (21761, 13)\n",
      "number of uniq names 821\n",
      "5 (21761, 13)\n",
      "number of uniq names 821\n",
      "6 (21601, 13)\n",
      "number of uniq names 821\n",
      "7 (21761, 13)\n",
      "number of uniq names 821\n",
      "8 (21761, 13)\n",
      "number of uniq names 821\n"
     ]
    }
   ],
   "source": [
    "import pandas as pd\n",
    "\n",
    "kernel_launchers = '/home/guangphu/perf-profiling/logs/tracelens/jax/trace_analysis_results_kernel_launchers.csv'\n",
    "df = pd.read_csv(kernel_launchers)\n",
    "#print(df.shape, df.head(3))\n",
    "#df.loc[df['name']=='loop_convert_fusion_1111']\n",
    "for pid in range(1,9):\n",
    "    print(pid, df.loc[df['pid']==pid].shape)\n",
    "    print('number of uniq names', len(set(df.name)))"
   ]
  },
  {
   "cell_type": "code",
   "execution_count": 15,
   "id": "a3bb7ed7",
   "metadata": {},
   "outputs": [
    {
     "data": {
      "text/plain": [
       "{1, 19, 20, 22, 23}"
      ]
     },
     "execution_count": 15,
     "metadata": {},
     "output_type": "execute_result"
    }
   ],
   "source": [
    "set(df.tid)"
   ]
  },
  {
   "cell_type": "code",
   "execution_count": 14,
   "id": "c4733d4e",
   "metadata": {},
   "outputs": [
    {
     "data": {
      "text/html": [
       "<div>\n",
       "<style scoped>\n",
       "    .dataframe tbody tr th:only-of-type {\n",
       "        vertical-align: middle;\n",
       "    }\n",
       "\n",
       "    .dataframe tbody tr th {\n",
       "        vertical-align: top;\n",
       "    }\n",
       "\n",
       "    .dataframe thead th {\n",
       "        text-align: right;\n",
       "    }\n",
       "</style>\n",
       "<table border=\"1\" class=\"dataframe\">\n",
       "  <thead>\n",
       "    <tr style=\"text-align: right;\">\n",
       "      <th></th>\n",
       "      <th>name</th>\n",
       "      <th>op category</th>\n",
       "      <th>UID</th>\n",
       "      <th>total_direct_kernel_time</th>\n",
       "      <th>direct_kernel_count</th>\n",
       "      <th>Input Dims</th>\n",
       "      <th>Input type</th>\n",
       "      <th>Input Strides</th>\n",
       "      <th>Concrete Inputs</th>\n",
       "      <th>pid</th>\n",
       "      <th>tid</th>\n",
       "      <th>external_id</th>\n",
       "      <th>kernel_names</th>\n",
       "    </tr>\n",
       "  </thead>\n",
       "  <tbody>\n",
       "    <tr>\n",
       "      <th>0</th>\n",
       "      <td>loop_convert_fusion_1111</td>\n",
       "      <td>other</td>\n",
       "      <td>0</td>\n",
       "      <td>2.28</td>\n",
       "      <td>1</td>\n",
       "      <td>NaN</td>\n",
       "      <td>NaN</td>\n",
       "      <td>NaN</td>\n",
       "      <td>NaN</td>\n",
       "      <td>1</td>\n",
       "      <td>1</td>\n",
       "      <td>NaN</td>\n",
       "      <td>['loop_convert_fusion_1111']</td>\n",
       "    </tr>\n",
       "    <tr>\n",
       "      <th>1</th>\n",
       "      <td>loop_add_fusion_51</td>\n",
       "      <td>other</td>\n",
       "      <td>1</td>\n",
       "      <td>2.28</td>\n",
       "      <td>1</td>\n",
       "      <td>NaN</td>\n",
       "      <td>NaN</td>\n",
       "      <td>NaN</td>\n",
       "      <td>NaN</td>\n",
       "      <td>1</td>\n",
       "      <td>1</td>\n",
       "      <td>NaN</td>\n",
       "      <td>['loop_add_fusion_51']</td>\n",
       "    </tr>\n",
       "    <tr>\n",
       "      <th>2</th>\n",
       "      <td>loop_add_fusion_52</td>\n",
       "      <td>other</td>\n",
       "      <td>2</td>\n",
       "      <td>2.32</td>\n",
       "      <td>1</td>\n",
       "      <td>NaN</td>\n",
       "      <td>NaN</td>\n",
       "      <td>NaN</td>\n",
       "      <td>NaN</td>\n",
       "      <td>1</td>\n",
       "      <td>1</td>\n",
       "      <td>NaN</td>\n",
       "      <td>['loop_add_fusion_52']</td>\n",
       "    </tr>\n",
       "  </tbody>\n",
       "</table>\n",
       "</div>"
      ],
      "text/plain": [
       "                       name op category  UID  total_direct_kernel_time  \\\n",
       "0  loop_convert_fusion_1111       other    0                      2.28   \n",
       "1        loop_add_fusion_51       other    1                      2.28   \n",
       "2        loop_add_fusion_52       other    2                      2.32   \n",
       "\n",
       "   direct_kernel_count  Input Dims  Input type  Input Strides  \\\n",
       "0                    1         NaN         NaN            NaN   \n",
       "1                    1         NaN         NaN            NaN   \n",
       "2                    1         NaN         NaN            NaN   \n",
       "\n",
       "   Concrete Inputs  pid  tid  external_id                  kernel_names  \n",
       "0              NaN    1    1          NaN  ['loop_convert_fusion_1111']  \n",
       "1              NaN    1    1          NaN        ['loop_add_fusion_51']  \n",
       "2              NaN    1    1          NaN        ['loop_add_fusion_52']  "
      ]
     },
     "execution_count": 14,
     "metadata": {},
     "output_type": "execute_result"
    }
   ],
   "source": [
    "df.head(3)"
   ]
  },
  {
   "cell_type": "code",
   "execution_count": 12,
   "id": "9cf3a728",
   "metadata": {},
   "outputs": [
    {
     "data": {
      "text/html": [
       "<div>\n",
       "<style scoped>\n",
       "    .dataframe tbody tr th:only-of-type {\n",
       "        vertical-align: middle;\n",
       "    }\n",
       "\n",
       "    .dataframe tbody tr th {\n",
       "        vertical-align: top;\n",
       "    }\n",
       "\n",
       "    .dataframe thead th {\n",
       "        text-align: right;\n",
       "    }\n",
       "</style>\n",
       "<table border=\"1\" class=\"dataframe\">\n",
       "  <thead>\n",
       "    <tr style=\"text-align: right;\">\n",
       "      <th></th>\n",
       "      <th>name</th>\n",
       "      <th>op category</th>\n",
       "      <th>UID</th>\n",
       "      <th>total_direct_kernel_time</th>\n",
       "      <th>direct_kernel_count</th>\n",
       "      <th>Input Dims</th>\n",
       "      <th>Input type</th>\n",
       "      <th>Input Strides</th>\n",
       "      <th>Concrete Inputs</th>\n",
       "      <th>pid</th>\n",
       "      <th>tid</th>\n",
       "      <th>external_id</th>\n",
       "      <th>kernel_names</th>\n",
       "    </tr>\n",
       "  </thead>\n",
       "  <tbody>\n",
       "    <tr>\n",
       "      <th>108808</th>\n",
       "      <td>loop_convert_fusion_1111</td>\n",
       "      <td>other</td>\n",
       "      <td>273375</td>\n",
       "      <td>2.40</td>\n",
       "      <td>1</td>\n",
       "      <td>NaN</td>\n",
       "      <td>NaN</td>\n",
       "      <td>NaN</td>\n",
       "      <td>NaN</td>\n",
       "      <td>6</td>\n",
       "      <td>1</td>\n",
       "      <td>NaN</td>\n",
       "      <td>['loop_convert_fusion_1111']</td>\n",
       "    </tr>\n",
       "    <tr>\n",
       "      <th>108809</th>\n",
       "      <td>loop_add_fusion_51</td>\n",
       "      <td>other</td>\n",
       "      <td>273376</td>\n",
       "      <td>2.04</td>\n",
       "      <td>1</td>\n",
       "      <td>NaN</td>\n",
       "      <td>NaN</td>\n",
       "      <td>NaN</td>\n",
       "      <td>NaN</td>\n",
       "      <td>6</td>\n",
       "      <td>1</td>\n",
       "      <td>NaN</td>\n",
       "      <td>['loop_add_fusion_51']</td>\n",
       "    </tr>\n",
       "    <tr>\n",
       "      <th>108810</th>\n",
       "      <td>loop_add_fusion_52</td>\n",
       "      <td>other</td>\n",
       "      <td>273377</td>\n",
       "      <td>2.12</td>\n",
       "      <td>1</td>\n",
       "      <td>NaN</td>\n",
       "      <td>NaN</td>\n",
       "      <td>NaN</td>\n",
       "      <td>NaN</td>\n",
       "      <td>6</td>\n",
       "      <td>1</td>\n",
       "      <td>NaN</td>\n",
       "      <td>['loop_add_fusion_52']</td>\n",
       "    </tr>\n",
       "  </tbody>\n",
       "</table>\n",
       "</div>"
      ],
      "text/plain": [
       "                            name op category     UID  \\\n",
       "108808  loop_convert_fusion_1111       other  273375   \n",
       "108809        loop_add_fusion_51       other  273376   \n",
       "108810        loop_add_fusion_52       other  273377   \n",
       "\n",
       "        total_direct_kernel_time  direct_kernel_count  Input Dims  Input type  \\\n",
       "108808                      2.40                    1         NaN         NaN   \n",
       "108809                      2.04                    1         NaN         NaN   \n",
       "108810                      2.12                    1         NaN         NaN   \n",
       "\n",
       "        Input Strides  Concrete Inputs  pid  tid  external_id  \\\n",
       "108808            NaN              NaN    6    1          NaN   \n",
       "108809            NaN              NaN    6    1          NaN   \n",
       "108810            NaN              NaN    6    1          NaN   \n",
       "\n",
       "                        kernel_names  \n",
       "108808  ['loop_convert_fusion_1111']  \n",
       "108809        ['loop_add_fusion_51']  \n",
       "108810        ['loop_add_fusion_52']  "
      ]
     },
     "execution_count": 12,
     "metadata": {},
     "output_type": "execute_result"
    }
   ],
   "source": [
    "df6 = df.loc[df['pid']==6]\n",
    "df6.head(3)"
   ]
  },
  {
   "cell_type": "markdown",
   "id": "6bb138f7",
   "metadata": {},
   "source": [
    "\n",
    "### 3. Trace Comparison\n"
   ]
  },
  {
   "cell_type": "markdown",
   "id": "15dad115",
   "metadata": {},
   "source": [
    "\n",
    "### 4. Memory Profiling"
   ]
  },
  {
   "cell_type": "code",
   "execution_count": null,
   "id": "c0a71813",
   "metadata": {},
   "outputs": [],
   "source": [
    "# Tracelens/examples/generate_perf_report.py\n",
    "df_gpu_timeline\n",
    "df_kernel_launchers\n",
    "df_op_x\n",
    "\n",
    "# Tracelens/Reporting/gererate_perf_report_jax_analysis.py\n",
    "df_gpu_events_averages\n",
    "df_gpu_events_categorized\n",
    "df_xla_grouped\n",
    "df_gemms_detailed\n",
    "\n",
    "# JaxTrace_Analysis\n",
    "df_gemm_perf_info\n",
    "df_perf_breakdown\n",
    "roofline_figs\n"
   ]
  }
 ],
 "metadata": {
  "kernelspec": {
   "display_name": ".venv",
   "language": "python",
   "name": "python3"
  },
  "language_info": {
   "codemirror_mode": {
    "name": "ipython",
    "version": 3
   },
   "file_extension": ".py",
   "mimetype": "text/x-python",
   "name": "python",
   "nbconvert_exporter": "python",
   "pygments_lexer": "ipython3",
   "version": "3.12.3"
  }
 },
 "nbformat": 4,
 "nbformat_minor": 5
}
