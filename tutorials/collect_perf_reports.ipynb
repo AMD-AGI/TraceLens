{
 "cells": [
  {
   "cell_type": "markdown",
   "id": "06228744",
   "metadata": {},
   "source": [
    "## Background\n",
    "\n",
    "There are separate tools and scripts to collect performance data on jax traces. e.g.\n",
    "1. Tracelens/examples/generate_perf_report.py: PerfModel.torch_op_mapping, TreePerfAnalyzer\n",
    "- df_gpu_timeline -> get_kernal_events -> GPUEventAnalyser.compute_metrics_dict(dict_events) -> breakdown\n",
    "- df_kernel_launchers -> get_df_kernel_launchers -> get_kernel_launchers -> 'traverses the event tree', parent-child-grandchild?\n",
    "- *df_kernel_launchers_summary* -> get_df_kernel_launchers_summary\n",
    "- *df_kernel_launchers_summary_by_category* -> get_df_kernel_launchers_summary_by_category\n",
    "- *df_kernel_launchers_unique_args* -> get_df_kernel_launchers_unique_args\n",
    "- df_op_x -> dict_cat2names -> op_to_perf_model_class_map\n",
    "- df_op_x -> loop_and_aggregate_kernels -> agg_kernels_in_subtree -> GPUEventAnalyser.compute_metrics_dict(dict_events) -> breakdown\n",
    "2. Tracelens/Reporting/gererate_perf_report_jax_analysis.py: jax_analyses\n",
    "- df_gpu_events_averages -> summarize_gpu_events -> JaxGPUEventAnalyser.compute_metrics_dict(dict_events) -> breakdown\n",
    "- df_gpu_events_categorized\n",
    "- df_xla_grouped\n",
    "- df_gemms_detailed\n",
    "3. JaxTrace_Analysis\n",
    "- df_gemm_perf_info\n",
    "- df_perf_breakdown\n",
    "- gemm_roofline\n",
    "- attention_roofline\n",
    "- rccl\n",
    "- xla_op\n",
    "- hlo_op\n",
    "\n"
   ]
  },
  {
   "cell_type": "code",
   "execution_count": 1,
   "id": "b6cf855b",
   "metadata": {},
   "outputs": [],
   "source": [
    "# Imports\n",
    "import os, sys\n",
    "from pprint import pprint\n",
    "import json\n",
    "import pandas as pd\n",
    "from itertools import chain\n",
    "from collections import Counter\n",
    "\n",
    "from TraceLens import DataLoader\n",
    "from TraceLens import TraceToTree, JaxAnalyses, TraceEventUtils, TreePerfAnalyzer\n",
    "\n",
    "# Configs\n",
    "home_dir='/home/guangphu'\n",
    "data_dir='perf-profiling/midj_traces'\n",
    "# jax xplane.pb\n",
    "trace_id='mi355x/hunyuan_t129/plugins/profile/2025_06_25_12_43_37'\n",
    "trace_fname='chi-mi300x-007.ord.vultr.cpe.ice.amd.com'\n",
    "trace_ext='.xplane.pb'\n",
    "trace_dir=os.path.join(home_dir, data_dir, trace_id) \n",
    "trace_path=os.path.join(home_dir, data_dir, trace_id, trace_fname) + trace_ext \n",
    "os.path.exists(trace_path)\n",
    "trace_path_jax = trace_path\n",
    "# pytorch trace.json\n",
    "trace_id='tts-traces/tts-traces-h100/bs16/rank_0/'\n",
    "trace_fname='rocm-framework-h100-sxm-1_60628.1751372362949836640'\n",
    "trace_ext='.pt.trace.json'\n",
    "trace_dir=os.path.join(home_dir, data_dir, trace_id) \n",
    "trace_path=os.path.join(home_dir, data_dir, trace_id, trace_fname) + trace_ext\n",
    "os.path.exists(trace_path)\n",
    "trace_path_pytorch = trace_path\n"
   ]
  },
  {
   "cell_type": "markdown",
   "id": "e73da478",
   "metadata": {},
   "source": [
    "## Trace2Tree"
   ]
  },
  {
   "cell_type": "markdown",
   "id": "0bf0fd35",
   "metadata": {},
   "source": [
    "##### Event keys"
   ]
  },
  {
   "cell_type": "code",
   "execution_count": null,
   "id": "b3fa4348",
   "metadata": {},
   "outputs": [],
   "source": [
    "data = DataLoader.load_data(trace_path_pytorch)\n",
    "events_pt=data[\"traceEvents\"]\n",
    "data = DataLoader.load_data(trace_path_jax)\n",
    "events_jax=data[\"traceEvents\"]\n",
    "\n",
    "# Using set comprehension with itertools.chain.from_iterable\n",
    "names = [e['name'] for e in events_pt]\n",
    "set_keys_pt = set(chain.from_iterable(d.keys() for d in events_pt))\n",
    "print('torch keys:', len(set_keys_pt), set_keys_pt)\n",
    "all_keys = []\n",
    "for d in events_pt:\n",
    "    all_keys.extend(d.keys())\n",
    "key_counts = Counter(all_keys)\n",
    "print(f'number of torch events: {len(events_pt)}, unique event names: {len(set(names))}', )\n",
    "print('torch event key counts:', key_counts)\n",
    "\n",
    "names = [e['name'] for e in events_jax]\n",
    "set_keys_jax = set(chain.from_iterable(d.keys() for d in events_jax))\n",
    "print('jax keys', len(set_keys_jax), set_keys_jax)\n",
    "all_keys = []\n",
    "for d in events_jax:\n",
    "    all_keys.extend(d.keys())\n",
    "key_counts = Counter(all_keys)\n",
    "print(f'number of jax events: {len(events_jax)}, unique event names: {len(set(names))}')\n",
    "print('jax event key counts:',key_counts)\n",
    "\n",
    "keys_common = [_key for _key in set_keys_pt if _key in set_keys_jax]\n",
    "keys_uniq_jax = [_key for _key in set_keys_jax if _key not in set_keys_pt]\n",
    "keys_uniq_pt = [_key for _key in set_keys_pt if _key not in set_keys_jax]\n",
    "print('common kyes:', len(keys_common), keys_common)\n",
    "print('unique to torch:', len(keys_uniq_pt), keys_uniq_pt)\n",
    "print('unique to jax:', len(keys_uniq_jax), keys_uniq_jax)"
   ]
  },
  {
   "cell_type": "markdown",
   "id": "975e913f",
   "metadata": {},
   "source": [
    "##### Example Event"
   ]
  },
  {
   "cell_type": "code",
   "execution_count": null,
   "id": "232c11f2",
   "metadata": {},
   "outputs": [],
   "source": [
    "_event = events_jax[999] \n",
    "for _key in keys_uniq_jax:\n",
    "    print('uniq to jax:', _key, _event.get(_key, None))\n",
    "for _key in keys_common:\n",
    "    print('common key:', _key, _event[_key])\n",
    "\n",
    "_event = events_pt[999]\n",
    "for _key in keys_uniq_pt:\n",
    "    print('uniq to pt:', _key, _event.get(_key, None))\n",
    "for _key in keys_common:\n",
    "    print('common key:', _key, _event[_key])"
   ]
  },
  {
   "cell_type": "markdown",
   "id": "39085fb3",
   "metadata": {},
   "source": [
    "##### Tree categories"
   ]
  },
  {
   "cell_type": "code",
   "execution_count": 2,
   "id": "32cde401",
   "metadata": {},
   "outputs": [
    {
     "name": "stderr",
     "output_type": "stream",
     "text": [
      "2025-08-19 10:39:58.549500: I tensorflow/core/util/port.cc:153] oneDNN custom operations are on. You may see slightly different numerical results due to floating-point round-off errors from different computation orders. To turn them off, set the environment variable `TF_ENABLE_ONEDNN_OPTS=0`.\n",
      "2025-08-19 10:39:58.571337: I external/local_xla/xla/tsl/cuda/cudart_stub.cc:32] Could not find cuda drivers on your machine, GPU will not be used.\n",
      "2025-08-19 10:39:58.710472: I external/local_xla/xla/tsl/cuda/cudart_stub.cc:32] Could not find cuda drivers on your machine, GPU will not be used.\n",
      "2025-08-19 10:39:58.839442: E external/local_xla/xla/stream_executor/cuda/cuda_fft.cc:467] Unable to register cuFFT factory: Attempting to register factory for plugin cuFFT when one has already been registered\n",
      "WARNING: All log messages before absl::InitializeLog() is called are written to STDERR\n",
      "E0000 00:00:1755599998.950806  167785 cuda_dnn.cc:8579] Unable to register cuDNN factory: Attempting to register factory for plugin cuDNN when one has already been registered\n",
      "E0000 00:00:1755599998.984240  167785 cuda_blas.cc:1407] Unable to register cuBLAS factory: Attempting to register factory for plugin cuBLAS when one has already been registered\n",
      "W0000 00:00:1755599999.214962  167785 computation_placer.cc:177] computation placer already registered. Please check linkage and avoid linking the same target more than once.\n",
      "W0000 00:00:1755599999.215026  167785 computation_placer.cc:177] computation placer already registered. Please check linkage and avoid linking the same target more than once.\n",
      "W0000 00:00:1755599999.215028  167785 computation_placer.cc:177] computation placer already registered. Please check linkage and avoid linking the same target more than once.\n",
      "W0000 00:00:1755599999.215031  167785 computation_placer.cc:177] computation placer already registered. Please check linkage and avoid linking the same target more than once.\n",
      "2025-08-19 10:39:59.242667: I tensorflow/core/platform/cpu_feature_guard.cc:210] This TensorFlow binary is optimized to use available CPU instructions in performance-critical operations.\n",
      "To enable the following instructions: AVX2 AVX512F AVX512_VNNI AVX512_BF16 FMA, in other operations, rebuild TensorFlow with the appropriate compiler flags.\n",
      "WARNING: All log messages before absl::InitializeLog() is called are written to STDERR\n",
      "I0000 00:00:1755600004.508235  167785 xplane_to_tools_data.cc:376] serving tool: trace_viewer@ with options: {}\n",
      "I0000 00:00:1755600011.780020  167785 trace_events.cc:389] Loaded 1982601 events after filtering 0 events from LevelDb fast file: /home/guangphu/perf-profiling/midj_traces/mi355x/hunyuan_t129/plugins/profile/2025_06_25_12_43_37/chi-mi300x-007.ord.vultr.cpe.ice.amd.com.SSTABLE\n",
      "I0000 00:00:1755600011.909198  167785 trace_events.cc:398] Added 1982601 visible events from LevelDb fast file: /home/guangphu/perf-profiling/midj_traces/mi355x/hunyuan_t129/plugins/profile/2025_06_25_12_43_37/chi-mi300x-007.ord.vultr.cpe.ice.amd.com.SSTABLE\n",
      "I0000 00:00:1755600013.751371  167785 trace_events_to_json.h:80] Generated JSON events: complete: 1982601 complete+flow: 0 counter: 0 async: 0\n",
      "I0000 00:00:1755600030.551907  167785 xplane_to_tools_data.cc:376] serving tool: graph_viewer with options: {show_metadata:1:0;merge_fusion:1:0;node_name::1;graph_width:2:0;module_name:jit_train_step(275):1;type:long_txt:1;}\n",
      "I0000 00:00:1755600044.158841  167785 xplane_to_tools_data.cc:376] serving tool: graph_viewer with options: {module_name:jit__threefry_split(1249):1;node_name::1;type:long_txt:1;merge_fusion:1:0;show_metadata:1:0;graph_width:2:0;}\n",
      "I0000 00:00:1755600044.170809  167785 xplane_to_tools_data.cc:376] serving tool: graph_viewer with options: {module_name:jit__unstack(1251):1;node_name::1;type:long_txt:1;merge_fusion:1:0;show_metadata:1:0;graph_width:2:0;}\n"
     ]
    },
    {
     "name": "stdout",
     "output_type": "stream",
     "text": [
      "Building tree with add_python_func=False\n",
      "Building CPU op tree with add_python_func=False\n",
      "jax number of events: 1982601 \n",
      "cats: 5 {'cpu_op', 'kernel', 'python function', 'Unknown', 'memcpy'}\n"
     ]
    }
   ],
   "source": [
    "from TraceLens import JaxTraceToTree\n",
    "\n",
    "data = DataLoader.load_data(trace_path_jax)\n",
    "data_pb = data['traceEvents']\n",
    "categorizer = JaxAnalyses.prepare_event_categorizer(data_pb)\n",
    "events = TraceEventUtils.non_metadata_events(data_pb)\n",
    "linking_key = 'correlation_id'\n",
    "metadata = TraceEventUtils.get_metadata(data_pb)\n",
    "tree_jax = JaxTraceToTree(events, linking_key=linking_key, event_to_category=categorizer)\n",
    "tree_jax.build_tree(metadata=metadata, pb_file_name=trace_path_jax)\n",
    "\n",
    "#jax tree\n",
    "cats = [categorizer(e) for e in tree_jax.events if categorizer(e)]\n",
    "print('jax number of events:', len(cats), '\\ncats:', len(set(cats)), set(cats))"
   ]
  },
  {
   "cell_type": "code",
   "execution_count": null,
   "id": "77d0a25f",
   "metadata": {},
   "outputs": [
    {
     "name": "stdout",
     "output_type": "stream",
     "text": [
      "torch number of events:: 1895689 \n",
      "cats: 14 {'cpu_op', 'kernel', 'cuda_runtime', 'ac2g', 'cuda_driver', 'user_annotation', 'python_function', 'overhead', 'cpu_instant_event', 'fwdbwd', 'gpu_memcpy', 'gpu_memset', 'gpu_user_annotation', 'Trace'}\n"
     ]
    }
   ],
   "source": [
    "data = DataLoader.load_data(trace_path_pytorch)\n",
    "data = data['traceEvents']\n",
    "categorizer_pt = TraceToTree.default_categorizer \n",
    "tree_pt = TraceToTree(data, event_to_category=categorizer)\n",
    "\n",
    "# torch tree\n",
    "cats = [categorizer_pt(e) for e in tree_pt.events if categorizer_pt(e)]\n",
    "print('torch number of events::', len(cats), '\\ncats:', len(set(cats)), set(cats))"
   ]
  },
  {
   "cell_type": "markdown",
   "id": "ce9015f1",
   "metadata": {},
   "source": [
    "##### GEMM"
   ]
  },
  {
   "cell_type": "code",
   "execution_count": 12,
   "id": "6b8888ea",
   "metadata": {},
   "outputs": [],
   "source": [
    "from TraceLens.PerfModel.torch_op_mapping import categorize_torch_op, dict_cat2names\n",
    "from TraceLens.PerfModel.jax_op_mapping import categorize_jax_op"
   ]
  },
  {
   "cell_type": "code",
   "execution_count": 18,
   "id": "d9435b52",
   "metadata": {},
   "outputs": [
    {
     "data": {
      "text/plain": [
       "{'ph': 'X',\n",
       " 'cat': 'user_annotation',\n",
       " 'name': 'ProfilerStep#2',\n",
       " 'pid': 60628,\n",
       " 'tid': 60628,\n",
       " 'ts': 7850735204323.829,\n",
       " 'dur': 245104.15,\n",
       " 'args': {'External id': 1,\n",
       "  'Record function id': 0,\n",
       "  'finished': True,\n",
       "  'Ev Idx': 0},\n",
       " <TraceKeys.UID: 'UID'>: 0,\n",
       " <TraceKeys.TimeEnd: 't_end'>: 7850735449427.9795}"
      ]
     },
     "execution_count": 18,
     "metadata": {},
     "output_type": "execute_result"
    }
   ],
   "source": [
    "tree_pt.events[0]"
   ]
  },
  {
   "cell_type": "code",
   "execution_count": null,
   "id": "8d7a9d09",
   "metadata": {},
   "outputs": [
    {
     "name": "stdout",
     "output_type": "stream",
     "text": [
      "16680\n",
      "backend_config={\"operation_queue_id\":\"0\",\"wait_on_operation_queues\":[],\"fusion_backend_config\":{\"kind\":\"__triton_gemm\",\"triton_gemm_config\":{\"block_m\":\"64\",\"block_n\":\"16\",\"block_k\":\"32\",\"split_k\":\"16\",\"num_stages\":\"1\",\"num_warps\":\"4\",\"num_ctas\":\"1\"}},\"force_earliest_schedule\":false}\n"
     ]
    }
   ],
   "source": [
    "op_categorizer = categorize_jax_op\n",
    "gemms = [e for e in tree_jax.events if categorizer(e)=='kernel' and op_categorizer(e) =='GEMM']\n",
    "print(len(gemms))\n",
    "print(gemms[0]['metadata']['backend_config'])\n"
   ]
  },
  {
   "cell_type": "code",
   "execution_count": null,
   "id": "bb07497d",
   "metadata": {},
   "outputs": [],
   "source": [
    "import json\n",
    "from collections import Counter\n",
    "\n",
    "def get_backend_config(gemm_event):\n",
    "    backend_config = gemm_event['metadata']['backend_config'].split('=')[1]\n",
    "    dict_backend_config = json.loads(backend_config)\n",
    "    return dict_backend_config.keys() #['fusion_backend_config']\n"
   ]
  },
  {
   "cell_type": "code",
   "execution_count": null,
   "id": "3d0caeba",
   "metadata": {},
   "outputs": [
    {
     "ename": "KeyError",
     "evalue": "'fusion_backend_config'",
     "output_type": "error",
     "traceback": [
      "\u001b[31m---------------------------------------------------------------------------\u001b[39m",
      "\u001b[31mKeyError\u001b[39m                                  Traceback (most recent call last)",
      "\u001b[36mCell\u001b[39m\u001b[36m \u001b[39m\u001b[32mIn[41]\u001b[39m\u001b[32m, line 2\u001b[39m\n\u001b[32m      1\u001b[39m gemm_event = gemms[\u001b[32m100\u001b[39m]\n\u001b[32m----> \u001b[39m\u001b[32m2\u001b[39m \u001b[38;5;28mset\u001b[39m([\u001b[43mget_backend_config\u001b[49m\u001b[43m(\u001b[49m\u001b[43mgemm\u001b[49m\u001b[43m)\u001b[49m[\u001b[33m'\u001b[39m\u001b[33mkind\u001b[39m\u001b[33m'\u001b[39m] \u001b[38;5;28;01mfor\u001b[39;00m gemm \u001b[38;5;129;01min\u001b[39;00m gemms])\n",
      "\u001b[36mCell\u001b[39m\u001b[36m \u001b[39m\u001b[32mIn[39]\u001b[39m\u001b[32m, line 6\u001b[39m, in \u001b[36mget_backend_config\u001b[39m\u001b[34m(gemm_event)\u001b[39m\n\u001b[32m      4\u001b[39m backend_config = gemm_event[\u001b[33m'\u001b[39m\u001b[33mmetadata\u001b[39m\u001b[33m'\u001b[39m][\u001b[33m'\u001b[39m\u001b[33mbackend_config\u001b[39m\u001b[33m'\u001b[39m].split(\u001b[33m'\u001b[39m\u001b[33m=\u001b[39m\u001b[33m'\u001b[39m)[\u001b[32m1\u001b[39m]\n\u001b[32m      5\u001b[39m dict_backend_config = json.loads(backend_config)\n\u001b[32m----> \u001b[39m\u001b[32m6\u001b[39m \u001b[38;5;28;01mreturn\u001b[39;00m \u001b[43mdict_backend_config\u001b[49m\u001b[43m[\u001b[49m\u001b[33;43m'\u001b[39;49m\u001b[33;43mfusion_backend_config\u001b[39;49m\u001b[33;43m'\u001b[39;49m\u001b[43m]\u001b[49m\n",
      "\u001b[31mKeyError\u001b[39m: 'fusion_backend_config'"
     ]
    }
   ],
   "source": [
    "gemm_event = gemms[100]\n",
    "Counter([get_backend_config(gemm)['kind'] for gemm in gemms])"
   ]
  },
  {
   "cell_type": "code",
   "execution_count": null,
   "id": "8289f0d5",
   "metadata": {},
   "outputs": [
    {
     "ename": "AttributeError",
     "evalue": "'str' object has no attribute 'read'",
     "output_type": "error",
     "traceback": [
      "\u001b[31m---------------------------------------------------------------------------\u001b[39m",
      "\u001b[31mAttributeError\u001b[39m                            Traceback (most recent call last)",
      "\u001b[36mCell\u001b[39m\u001b[36m \u001b[39m\u001b[32mIn[28]\u001b[39m\u001b[32m, line 2\u001b[39m\n\u001b[32m      1\u001b[39m backend_config = gemms[\u001b[32m0\u001b[39m][\u001b[33m'\u001b[39m\u001b[33mmetadata\u001b[39m\u001b[33m'\u001b[39m][\u001b[33m'\u001b[39m\u001b[33mbackend_config\u001b[39m\u001b[33m'\u001b[39m].split(\u001b[33m'\u001b[39m\u001b[33m=\u001b[39m\u001b[33m'\u001b[39m)[\u001b[32m1\u001b[39m]\n\u001b[32m----> \u001b[39m\u001b[32m2\u001b[39m dict_backend_config = \u001b[43mjson\u001b[49m\u001b[43m.\u001b[49m\u001b[43mload\u001b[49m\u001b[43m(\u001b[49m\u001b[43mbackend_config\u001b[49m\u001b[43m)\u001b[49m\n\u001b[32m      3\u001b[39m pprint(dict_backend_config.get(\u001b[33m'\u001b[39m\u001b[33mtriton_gemm_config\u001b[39m\u001b[33m'\u001b[39m, \u001b[38;5;28;01mNone\u001b[39;00m))\n\u001b[32m      4\u001b[39m pprint(gemms[\u001b[32m0\u001b[39m][\u001b[33m'\u001b[39m\u001b[33mmetadata\u001b[39m\u001b[33m'\u001b[39m][\u001b[33m'\u001b[39m\u001b[33moperands\u001b[39m\u001b[33m'\u001b[39m])\n",
      "\u001b[36mFile \u001b[39m\u001b[32m/usr/lib/python3.12/json/__init__.py:293\u001b[39m, in \u001b[36mload\u001b[39m\u001b[34m(fp, cls, object_hook, parse_float, parse_int, parse_constant, object_pairs_hook, **kw)\u001b[39m\n\u001b[32m    274\u001b[39m \u001b[38;5;28;01mdef\u001b[39;00m\u001b[38;5;250m \u001b[39m\u001b[34mload\u001b[39m(fp, *, \u001b[38;5;28mcls\u001b[39m=\u001b[38;5;28;01mNone\u001b[39;00m, object_hook=\u001b[38;5;28;01mNone\u001b[39;00m, parse_float=\u001b[38;5;28;01mNone\u001b[39;00m,\n\u001b[32m    275\u001b[39m         parse_int=\u001b[38;5;28;01mNone\u001b[39;00m, parse_constant=\u001b[38;5;28;01mNone\u001b[39;00m, object_pairs_hook=\u001b[38;5;28;01mNone\u001b[39;00m, **kw):\n\u001b[32m    276\u001b[39m \u001b[38;5;250m    \u001b[39m\u001b[33;03m\"\"\"Deserialize ``fp`` (a ``.read()``-supporting file-like object containing\u001b[39;00m\n\u001b[32m    277\u001b[39m \u001b[33;03m    a JSON document) to a Python object.\u001b[39;00m\n\u001b[32m    278\u001b[39m \n\u001b[32m   (...)\u001b[39m\u001b[32m    291\u001b[39m \u001b[33;03m    kwarg; otherwise ``JSONDecoder`` is used.\u001b[39;00m\n\u001b[32m    292\u001b[39m \u001b[33;03m    \"\"\"\u001b[39;00m\n\u001b[32m--> \u001b[39m\u001b[32m293\u001b[39m     \u001b[38;5;28;01mreturn\u001b[39;00m loads(\u001b[43mfp\u001b[49m\u001b[43m.\u001b[49m\u001b[43mread\u001b[49m(),\n\u001b[32m    294\u001b[39m         \u001b[38;5;28mcls\u001b[39m=\u001b[38;5;28mcls\u001b[39m, object_hook=object_hook,\n\u001b[32m    295\u001b[39m         parse_float=parse_float, parse_int=parse_int,\n\u001b[32m    296\u001b[39m         parse_constant=parse_constant, object_pairs_hook=object_pairs_hook, **kw)\n",
      "\u001b[31mAttributeError\u001b[39m: 'str' object has no attribute 'read'"
     ]
    }
   ],
   "source": [
    "pprint(dict_backend_config.get('triton_gemm_config', None))\n",
    "pprint(gemms[0]['metadata']['operands'])"
   ]
  },
  {
   "cell_type": "code",
   "execution_count": 23,
   "id": "b4c150fa",
   "metadata": {},
   "outputs": [
    {
     "data": {
      "text/plain": [
       "{'correlation_id': 2687,\n",
       " 'theoretical_occupancy_pct': 0,\n",
       " 'occupancy_min_grid_size': 0,\n",
       " 'occupancy_suggested_block_size': 0,\n",
       " 'tf_op': 'XlaModule:',\n",
       " 'name': 'jit(train_step)/jit(main)/dot_general',\n",
       " 'hlo_op': 'gemm_fusion_dot.8020.0',\n",
       " 'hlo_module': 'jit_train_step',\n",
       " 'is_eager': 0}"
      ]
     },
     "execution_count": 23,
     "metadata": {},
     "output_type": "execute_result"
    }
   ],
   "source": [
    "gemms[0]['args']"
   ]
  },
  {
   "cell_type": "code",
   "execution_count": null,
   "id": "c639d6f6",
   "metadata": {},
   "outputs": [],
   "source": [
    "event = {'pid': 1, 'tid': 1, 'name': 'gemm_fusion_dot_8020_0', \n",
    "         'ts': 169717.392, 'dur': 16.585, 'ph': 'X', \n",
    "         'args': {'correlation_id': 2687, 'theoretical_occupancy_pct': 0, \n",
    "                  'occupancy_min_grid_size': 0, 'occupancy_suggested_block_size': 0, \n",
    "                  'tf_op': 'XlaModule:', \n",
    "                  'name': 'jit(train_step)/jit(main)/dot_general', \n",
    "                  'hlo_op': 'gemm_fusion_dot.8020.0', \n",
    "                  'hlo_module': 'jit_train_step', 'is_eager': 0}, \n",
    "        'z': 1, 'UID': 225, 't_end': 169733.97699999998,\n",
    "        'process': {'process_name': 'chi-mi300x-007.ord.vultr.cpe.ice.amd.com /device:GPU:0', 'process_sort_index': 1}, \n",
    "        'thread': {'thread_name': 'Stream #1(Kernel,Memset)', 'thread_sort_index': 1}, \n",
    "        'parent': 1821255, 'tree': True, \n",
    "        'metadata': {'output': 'bf16[16,6144]{1,0}', 'operands': ['bf16[1,3072]{1,0}', 'bf16[3072,6144]{1,0}'], 'computation': 'rest', 'metadata': 'metadata={op_name=\"jit(train_step)/jit(main)/dot_general\" source_file=\"/usr/local/lib/python3.10/dist-packages/flax/nnx/nn/linear.py\" source_line=367 deduplicated_name=\"gemm_fusion_dot.7978.0\"', 'backend_config': 'backend_config={\"operation_queue_id\":\"0\",\"wait_on_operation_queues\":[],\"fusion_backend_config\":{\"kind\":\"__triton_gemm\",\"triton_gemm_config\":{\"block_m\":\"64\",\"block_n\":\"16\",\"block_k\":\"32\",\"split_k\":\"16\",\"num_stages\":\"1\",\"num_warps\":\"4\",\"num_ctas\":\"1\"}},\"force_earliest_schedule\":false}'}, \n",
    "        'cat': 'kernel', 'gpu_events': [225] \n",
    "        }\n"
   ]
  },
  {
   "cell_type": "code",
   "execution_count": null,
   "id": "6610b145",
   "metadata": {},
   "outputs": [],
   "source": [
    "from TraceLens.PerfModel.jax_op_mapping import categorize_jax_op, dict_cat_to_perf_model\n",
    "from TraceLens.TreePerf.jax_analyses import JaxAnalyses\n",
    "\n",
    "profile_filepath = trace_path_jax\n",
    "data = DataLoader.load_data(profile_filepath)\n",
    "data_pb = data['traceEvents']\n",
    "categorizer = JaxAnalyses.prepare_event_categorizer(data_pb)\n",
    "\n",
    "metrics_event = {'cat': categorizer(event), \n",
    "                'name': event['name'],\n",
    "                'UID': event['UID'],\n",
    "        'pid': event['pid'], 'tid': event['tid'],\n",
    "        'external_id': event['args'].get('External id')}"
   ]
  },
  {
   "cell_type": "markdown",
   "id": "6c07b107",
   "metadata": {},
   "source": [
    "## Performance\n",
    "\n",
    "### 1. Temporal Breakdown\n",
    "- Breakdown of time taken by the GPUs in terms of time spent in computation, communication, memory events, and idle time across all ranks.\n"
   ]
  },
  {
   "cell_type": "code",
   "execution_count": null,
   "id": "56c81de1",
   "metadata": {},
   "outputs": [],
   "source": [
    "kernel_events = '/home/guangphu/perf-profiling/logs/tracelens/jax/trace_analysis_results_kernel_events.csv'\n",
    "df = pd.read_csv(kernel_events)\n",
    "df.shape, df.head(3)"
   ]
  },
  {
   "cell_type": "markdown",
   "id": "ca6622fe",
   "metadata": {},
   "source": [
    "### 2. Kernel Breakdown\n"
   ]
  },
  {
   "cell_type": "code",
   "execution_count": null,
   "id": "57aea31f",
   "metadata": {},
   "outputs": [],
   "source": [
    "kernel_launchers = '/home/guangphu/perf-profiling/logs/tracelens/pytorch/trace_analysis_results_kernel_launchers.csv'\n",
    "df = pd.read_csv(kernel_launchers)\n",
    "# print(df.shape, df.head(3))\n"
   ]
  },
  {
   "cell_type": "code",
   "execution_count": null,
   "id": "f5aefe3c",
   "metadata": {},
   "outputs": [],
   "source": [
    "import pandas as pd\n",
    "\n",
    "kernel_launchers = '/home/guangphu/perf-profiling/logs/tracelens/jax/trace_analysis_results_kernel_launchers.csv'\n",
    "df = pd.read_csv(kernel_launchers)\n",
    "#print(df.shape, df.head(3))\n",
    "#df.loc[df['name']=='loop_convert_fusion_1111']\n",
    "for pid in range(1,9):\n",
    "    print(pid, df.loc[df['pid']==pid].shape)\n",
    "    print('number of uniq names', len(set(df.name)))"
   ]
  },
  {
   "cell_type": "code",
   "execution_count": null,
   "id": "c4733d4e",
   "metadata": {},
   "outputs": [],
   "source": [
    "df.head(3)"
   ]
  },
  {
   "cell_type": "code",
   "execution_count": null,
   "id": "9cf3a728",
   "metadata": {},
   "outputs": [],
   "source": [
    "df6 = df.loc[df['pid']==6]\n",
    "df6.head(3)"
   ]
  },
  {
   "cell_type": "markdown",
   "id": "6bb138f7",
   "metadata": {},
   "source": [
    "\n",
    "### 3. Trace Comparison\n"
   ]
  },
  {
   "cell_type": "markdown",
   "id": "15dad115",
   "metadata": {},
   "source": [
    "\n",
    "### 4. Memory Profiling"
   ]
  },
  {
   "cell_type": "code",
   "execution_count": null,
   "id": "c0a71813",
   "metadata": {},
   "outputs": [],
   "source": [
    "# Tracelens/examples/generate_perf_report.py\n",
    "df_gpu_timeline\n",
    "df_kernel_launchers\n",
    "df_op_x\n",
    "\n",
    "# Tracelens/Reporting/gererate_perf_report_jax_analysis.py\n",
    "df_gpu_events_averages\n",
    "df_gpu_events_categorized\n",
    "df_xla_grouped\n",
    "df_gemms_detailed\n",
    "\n",
    "# JaxTrace_Analysis\n",
    "df_gemm_perf_info\n",
    "df_perf_breakdown\n",
    "roofline_figs\n"
   ]
  }
 ],
 "metadata": {
  "kernelspec": {
   "display_name": ".venv",
   "language": "python",
   "name": "python3"
  },
  "language_info": {
   "codemirror_mode": {
    "name": "ipython",
    "version": 3
   },
   "file_extension": ".py",
   "mimetype": "text/x-python",
   "name": "python",
   "nbconvert_exporter": "python",
   "pygments_lexer": "ipython3",
   "version": "3.12.3"
  }
 },
 "nbformat": 4,
 "nbformat_minor": 5
}
