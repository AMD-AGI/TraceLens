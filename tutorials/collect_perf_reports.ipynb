{
 "cells": [
  {
   "cell_type": "markdown",
   "id": "06228744",
   "metadata": {},
   "source": [
    "## Background\n",
    "\n",
    "There are separate tools and scripts to collect performance data on jax traces. e.g.\n",
    "1. Tracelens/examples/generate_perf_report.py: PerfModel.torch_op_mapping, TreePerfAnalyzer\n",
    "- df_gpu_timeline -> get_kernal_events -> GPUEventAnalyser.compute_metrics_dict(dict_events) -> breakdown\n",
    "- df_kernel_launchers -> get_df_kernel_launchers -> get_kernel_launchers -> 'traverses the event tree', parent-child-grandchild?\n",
    "- *df_kernel_launchers_summary* -> get_df_kernel_launchers_summary\n",
    "- *df_kernel_launchers_summary_by_category* -> get_df_kernel_launchers_summary_by_category\n",
    "- *df_kernel_launchers_unique_args* -> get_df_kernel_launchers_unique_args\n",
    "- df_op_x -> dict_cat2names -> op_to_perf_model_class_map\n",
    "- df_op_x -> loop_and_aggregate_kernels -> agg_kernels_in_subtree -> GPUEventAnalyser.compute_metrics_dict(dict_events) -> breakdown\n",
    "2. Tracelens/Reporting/gererate_perf_report_jax_analysis.py: jax_analyses\n",
    "- df_gpu_events_averages -> summarize_gpu_events -> JaxGPUEventAnalyser.compute_metrics_dict(dict_events) -> breakdown\n",
    "- df_gpu_events_categorized\n",
    "- df_xla_grouped\n",
    "- df_gemms_detailed\n",
    "3. JaxTrace_Analysis\n",
    "- df_gemm_perf_info\n",
    "- df_perf_breakdown\n",
    "- gemm_roofline\n",
    "- attention_roofline\n",
    "- rccl\n",
    "- xla_op\n",
    "- hlo_op\n",
    "\n"
   ]
  },
  {
   "cell_type": "code",
   "execution_count": null,
   "id": "b6cf855b",
   "metadata": {},
   "outputs": [],
   "source": [
    "# Imports\n",
    "import os, sys\n",
    "from pprint import pprint\n",
    "import json\n",
    "import pandas as pd\n",
    "from itertools import chain\n",
    "from collections import Counter\n",
    "\n",
    "from TraceLens import DataLoader\n",
    "from TraceLens import TraceToTree, JaxAnalyses, TraceEventUtils, TreePerfAnalyzer\n",
    "\n",
    "# Configs\n",
    "home_dir='/home/guangphu'\n",
    "data_dir='perf-profiling/midj_traces'\n",
    "# jax xplane.pb\n",
    "trace_id='mi355x/hunyuan_t129/plugins/profile/2025_06_25_12_43_37'\n",
    "trace_fname='chi-mi300x-007.ord.vultr.cpe.ice.amd.com'\n",
    "trace_ext='.xplane.pb'\n",
    "trace_dir=os.path.join(home_dir, data_dir, trace_id) \n",
    "trace_path=os.path.join(home_dir, data_dir, trace_id, trace_fname) + trace_ext \n",
    "os.path.exists(trace_path)\n",
    "trace_path_jax = trace_path\n",
    "# pytorch trace.json\n",
    "trace_id='tts-traces/tts-traces-h100/bs16/rank_0/'\n",
    "trace_fname='rocm-framework-h100-sxm-1_60628.1751372362949836640'\n",
    "trace_ext='.pt.trace.json'\n",
    "trace_dir=os.path.join(home_dir, data_dir, trace_id) \n",
    "trace_path=os.path.join(home_dir, data_dir, trace_id, trace_fname) + trace_ext\n",
    "os.path.exists(trace_path)\n",
    "trace_path_pytorch = trace_path\n"
   ]
  },
  {
   "cell_type": "markdown",
   "id": "e73da478",
   "metadata": {},
   "source": [
    "## Trace2Tree"
   ]
  },
  {
   "cell_type": "code",
   "execution_count": null,
   "id": "e067d0b5",
   "metadata": {},
   "outputs": [],
   "source": [
    "data = DataLoader.load_data(trace_path_pytorch)\n",
    "events_pt=data[\"traceEvents\"]\n",
    "data = DataLoader.load_data(trace_path_jax)\n",
    "events_jax=data[\"traceEvents\"]"
   ]
  },
  {
   "cell_type": "markdown",
   "id": "0bf0fd35",
   "metadata": {},
   "source": [
    "##### Event keys"
   ]
  },
  {
   "cell_type": "code",
   "execution_count": null,
   "id": "b3fa4348",
   "metadata": {},
   "outputs": [],
   "source": [
    "# Using set comprehension with itertools.chain.from_iterable\n",
    "names = [e['name'] for e in events_pt]\n",
    "set_keys_pt = set(chain.from_iterable(d.keys() for d in events_pt))\n",
    "print('torch keys:', len(set_keys_pt), set_keys_pt)\n",
    "all_keys = []\n",
    "for d in events_pt:\n",
    "    all_keys.extend(d.keys())\n",
    "key_counts = Counter(all_keys)\n",
    "print(f'number of torch events: {len(events_pt)}, unique event names: {len(set(names))}', )\n",
    "print('torch event key counts:', key_counts)\n",
    "\n",
    "names = [e['name'] for e in events_jax]\n",
    "set_keys_jax = set(chain.from_iterable(d.keys() for d in events_jax))\n",
    "print('jax keys', len(set_keys_jax), set_keys_jax)\n",
    "all_keys = []\n",
    "for d in events_jax:\n",
    "    all_keys.extend(d.keys())\n",
    "key_counts = Counter(all_keys)\n",
    "print(f'number of jax events: {len(events_jax)}, unique event names: {len(set(names))}')\n",
    "print('jax event key counts:',key_counts)\n",
    "\n",
    "keys_common = [_key for _key in set_keys_pt if _key in set_keys_jax]\n",
    "keys_uniq_jax = [_key for _key in set_keys_jax if _key not in set_keys_pt]\n",
    "keys_uniq_pt = [_key for _key in set_keys_pt if _key not in set_keys_jax]\n",
    "print('common kyes:', len(keys_common), keys_common)\n",
    "print('unique to torch:', len(keys_uniq_pt), keys_uniq_pt)\n",
    "print('unique to jax:', len(keys_uniq_jax), keys_uniq_jax)"
   ]
  },
  {
   "cell_type": "markdown",
   "id": "975e913f",
   "metadata": {},
   "source": [
    "##### Example Event"
   ]
  },
  {
   "cell_type": "code",
   "execution_count": null,
   "id": "232c11f2",
   "metadata": {},
   "outputs": [],
   "source": [
    "_event = events_jax[999] \n",
    "for _key in keys_uniq_jax:\n",
    "    print('uniq to jax:', _key, _event.get(_key, None))\n",
    "for _key in keys_common:\n",
    "    print('common key:', _key, _event[_key])\n",
    "\n",
    "_event = events_pt[999]\n",
    "for _key in keys_uniq_pt:\n",
    "    print('uniq to pt:', _key, _event.get(_key, None))\n",
    "for _key in keys_common:\n",
    "    print('common key:', _key, _event[_key])"
   ]
  },
  {
   "cell_type": "markdown",
   "id": "39085fb3",
   "metadata": {},
   "source": [
    "##### Tree categories"
   ]
  },
  {
   "cell_type": "code",
   "execution_count": null,
   "id": "32cde401",
   "metadata": {},
   "outputs": [],
   "source": [
    "from TraceLens import JaxTraceToTree\n",
    "\n",
    "data = DataLoader.load_data(trace_path_jax)\n",
    "data_pb = data['traceEvents']\n",
    "categorizer = JaxAnalyses.prepare_event_categorizer(data_pb)\n",
    "events = TraceEventUtils.non_metadata_events(data_pb)\n",
    "linking_key = 'correlation_id'\n",
    "metadata = TraceEventUtils.get_metadata(data_pb)\n",
    "tree_jax = JaxTraceToTree(events, linking_key=linking_key, event_to_category=categorizer)\n",
    "tree_jax.build_tree()\n",
    "\n",
    "#jax tree\n",
    "cats = [categorizer(e) for e in events if categorizer(e)]\n",
    "print('jax number of events:', len(cats), '\\ncats:', len(set(cats)), set(cats))"
   ]
  },
  {
   "cell_type": "code",
   "execution_count": null,
   "id": "e147a65c",
   "metadata": {},
   "outputs": [],
   "source": [
    "from TraceLens import TraceToTree\n",
    "\n",
    "data = DataLoader.load_data(trace_path_pytorch)\n",
    "events = data['traceEvents']\n",
    "categorizer =  TraceToTree.default_categorizer\n",
    "tree_pt = TraceToTree(events, event_to_category=categorizer)\n",
    "\n",
    "# torch tree\n",
    "cats = [categorizer(e) for e in events if categorizer(e)]\n",
    "print('torch number of events::', len(cats), '\\ncats:', len(set(cats)), set(cats))\n"
   ]
  },
  {
   "cell_type": "markdown",
   "id": "6c07b107",
   "metadata": {},
   "source": [
    "## Performance\n",
    "\n",
    "### 1. Temporal Breakdown\n",
    "- Breakdown of time taken by the GPUs in terms of time spent in computation, communication, memory events, and idle time across all ranks.\n"
   ]
  },
  {
   "cell_type": "code",
   "execution_count": null,
   "id": "56c81de1",
   "metadata": {},
   "outputs": [],
   "source": [
    "kernel_events = '/home/guangphu/perf-profiling/logs/tracelens/jax/trace_analysis_results_kernel_events.csv'\n",
    "df = pd.read_csv(kernel_events)\n",
    "df.shape, df.head(3)"
   ]
  },
  {
   "cell_type": "markdown",
   "id": "ca6622fe",
   "metadata": {},
   "source": [
    "### 2. Kernel Breakdown\n"
   ]
  },
  {
   "cell_type": "code",
   "execution_count": null,
   "id": "57aea31f",
   "metadata": {},
   "outputs": [],
   "source": [
    "kernel_launchers = '/home/guangphu/perf-profiling/logs/tracelens/pytorch/trace_analysis_results_kernel_launchers.csv'\n",
    "df = pd.read_csv(kernel_launchers)\n",
    "# print(df.shape, df.head(3))\n"
   ]
  },
  {
   "cell_type": "code",
   "execution_count": null,
   "id": "f5aefe3c",
   "metadata": {},
   "outputs": [],
   "source": [
    "import pandas as pd\n",
    "\n",
    "kernel_launchers = '/home/guangphu/perf-profiling/logs/tracelens/jax/trace_analysis_results_kernel_launchers.csv'\n",
    "df = pd.read_csv(kernel_launchers)\n",
    "#print(df.shape, df.head(3))\n",
    "#df.loc[df['name']=='loop_convert_fusion_1111']\n",
    "for pid in range(1,9):\n",
    "    print(pid, df.loc[df['pid']==pid].shape)\n",
    "    print('number of uniq names', len(set(df.name)))"
   ]
  },
  {
   "cell_type": "code",
   "execution_count": null,
   "id": "c4733d4e",
   "metadata": {},
   "outputs": [],
   "source": [
    "df.head(3)"
   ]
  },
  {
   "cell_type": "code",
   "execution_count": null,
   "id": "9cf3a728",
   "metadata": {},
   "outputs": [],
   "source": [
    "df6 = df.loc[df['pid']==6]\n",
    "df6.head(3)"
   ]
  },
  {
   "cell_type": "markdown",
   "id": "6bb138f7",
   "metadata": {},
   "source": [
    "\n",
    "### 3. Trace Comparison\n"
   ]
  },
  {
   "cell_type": "markdown",
   "id": "15dad115",
   "metadata": {},
   "source": [
    "\n",
    "### 4. Memory Profiling"
   ]
  },
  {
   "cell_type": "code",
   "execution_count": null,
   "id": "c0a71813",
   "metadata": {},
   "outputs": [],
   "source": [
    "# Tracelens/examples/generate_perf_report.py\n",
    "df_gpu_timeline\n",
    "df_kernel_launchers\n",
    "df_op_x\n",
    "\n",
    "# Tracelens/Reporting/gererate_perf_report_jax_analysis.py\n",
    "df_gpu_events_averages\n",
    "df_gpu_events_categorized\n",
    "df_xla_grouped\n",
    "df_gemms_detailed\n",
    "\n",
    "# JaxTrace_Analysis\n",
    "df_gemm_perf_info\n",
    "df_perf_breakdown\n",
    "roofline_figs\n"
   ]
  }
 ],
 "metadata": {
  "kernelspec": {
   "display_name": ".venv",
   "language": "python",
   "name": "python3"
  },
  "language_info": {
   "codemirror_mode": {
    "name": "ipython",
    "version": 3
   },
   "file_extension": ".py",
   "mimetype": "text/x-python",
   "name": "python",
   "nbconvert_exporter": "python",
   "pygments_lexer": "ipython3",
   "version": "3.12.3"
  }
 },
 "nbformat": 4,
 "nbformat_minor": 5
}
